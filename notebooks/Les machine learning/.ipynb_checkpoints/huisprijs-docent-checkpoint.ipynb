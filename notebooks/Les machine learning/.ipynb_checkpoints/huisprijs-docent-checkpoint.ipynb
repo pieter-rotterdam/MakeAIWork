{
 "cells": [
  {
   "cell_type": "markdown",
   "id": "783305be-8517-4058-a458-23956ad0be80",
   "metadata": {
    "tags": []
   },
   "source": [
    "### Imports"
   ]
  },
  {
   "cell_type": "code",
   "execution_count": 43,
   "id": "7ad7ed7f-ad3f-46cd-9b05-b424251cf191",
   "metadata": {},
   "outputs": [
    {
     "name": "stdout",
     "output_type": "stream",
     "text": [
      "Requirement already satisfied: ipywidgets in /opt/miniconda3/lib/python3.9/site-packages (8.0.2)\n",
      "Requirement already satisfied: widgetsnbextension~=4.0 in /opt/miniconda3/lib/python3.9/site-packages (from ipywidgets) (4.0.3)\n",
      "Requirement already satisfied: traitlets>=4.3.1 in /opt/miniconda3/lib/python3.9/site-packages (from ipywidgets) (5.4.0)\n",
      "Requirement already satisfied: jupyterlab-widgets~=3.0 in /opt/miniconda3/lib/python3.9/site-packages (from ipywidgets) (3.0.3)\n",
      "Requirement already satisfied: ipykernel>=4.5.1 in /opt/miniconda3/lib/python3.9/site-packages (from ipywidgets) (6.15.2)\n",
      "Requirement already satisfied: ipython>=6.1.0 in /opt/miniconda3/lib/python3.9/site-packages (from ipywidgets) (8.5.0)\n",
      "Requirement already satisfied: jupyter-client>=6.1.12 in /opt/miniconda3/lib/python3.9/site-packages (from ipykernel>=4.5.1->ipywidgets) (7.3.5)\n",
      "Requirement already satisfied: debugpy>=1.0 in /opt/miniconda3/lib/python3.9/site-packages (from ipykernel>=4.5.1->ipywidgets) (1.6.3)\n",
      "Requirement already satisfied: tornado>=6.1 in /opt/miniconda3/lib/python3.9/site-packages (from ipykernel>=4.5.1->ipywidgets) (6.2)\n",
      "Requirement already satisfied: appnope in /opt/miniconda3/lib/python3.9/site-packages (from ipykernel>=4.5.1->ipywidgets) (0.1.3)\n",
      "Requirement already satisfied: matplotlib-inline>=0.1 in /opt/miniconda3/lib/python3.9/site-packages (from ipykernel>=4.5.1->ipywidgets) (0.1.6)\n",
      "Requirement already satisfied: pyzmq>=17 in /opt/miniconda3/lib/python3.9/site-packages (from ipykernel>=4.5.1->ipywidgets) (23.2.1)\n",
      "Requirement already satisfied: psutil in /opt/miniconda3/lib/python3.9/site-packages (from ipykernel>=4.5.1->ipywidgets) (5.9.2)\n",
      "Requirement already satisfied: packaging in /opt/miniconda3/lib/python3.9/site-packages (from ipykernel>=4.5.1->ipywidgets) (21.3)\n",
      "Requirement already satisfied: nest-asyncio in /opt/miniconda3/lib/python3.9/site-packages (from ipykernel>=4.5.1->ipywidgets) (1.5.5)\n",
      "Requirement already satisfied: backcall in /opt/miniconda3/lib/python3.9/site-packages (from ipython>=6.1.0->ipywidgets) (0.2.0)\n",
      "Requirement already satisfied: stack-data in /opt/miniconda3/lib/python3.9/site-packages (from ipython>=6.1.0->ipywidgets) (0.5.0)\n",
      "Requirement already satisfied: prompt-toolkit<3.1.0,>3.0.1 in /opt/miniconda3/lib/python3.9/site-packages (from ipython>=6.1.0->ipywidgets) (3.0.31)\n",
      "Requirement already satisfied: decorator in /opt/miniconda3/lib/python3.9/site-packages (from ipython>=6.1.0->ipywidgets) (5.1.1)\n",
      "Requirement already satisfied: pexpect>4.3 in /opt/miniconda3/lib/python3.9/site-packages (from ipython>=6.1.0->ipywidgets) (4.8.0)\n",
      "Requirement already satisfied: pygments>=2.4.0 in /opt/miniconda3/lib/python3.9/site-packages (from ipython>=6.1.0->ipywidgets) (2.13.0)\n",
      "Requirement already satisfied: pickleshare in /opt/miniconda3/lib/python3.9/site-packages (from ipython>=6.1.0->ipywidgets) (0.7.5)\n",
      "Requirement already satisfied: jedi>=0.16 in /opt/miniconda3/lib/python3.9/site-packages (from ipython>=6.1.0->ipywidgets) (0.18.1)\n",
      "Requirement already satisfied: parso<0.9.0,>=0.8.0 in /opt/miniconda3/lib/python3.9/site-packages (from jedi>=0.16->ipython>=6.1.0->ipywidgets) (0.8.3)\n",
      "Requirement already satisfied: entrypoints in /opt/miniconda3/lib/python3.9/site-packages (from jupyter-client>=6.1.12->ipykernel>=4.5.1->ipywidgets) (0.4)\n",
      "Requirement already satisfied: python-dateutil>=2.8.2 in /opt/miniconda3/lib/python3.9/site-packages (from jupyter-client>=6.1.12->ipykernel>=4.5.1->ipywidgets) (2.8.2)\n",
      "Requirement already satisfied: jupyter-core>=4.9.2 in /opt/miniconda3/lib/python3.9/site-packages (from jupyter-client>=6.1.12->ipykernel>=4.5.1->ipywidgets) (4.11.1)\n",
      "Requirement already satisfied: ptyprocess>=0.5 in /opt/miniconda3/lib/python3.9/site-packages (from pexpect>4.3->ipython>=6.1.0->ipywidgets) (0.7.0)\n",
      "Requirement already satisfied: wcwidth in /opt/miniconda3/lib/python3.9/site-packages (from prompt-toolkit<3.1.0,>3.0.1->ipython>=6.1.0->ipywidgets) (0.2.5)\n",
      "Requirement already satisfied: pyparsing!=3.0.5,>=2.0.2 in /opt/miniconda3/lib/python3.9/site-packages (from packaging->ipykernel>=4.5.1->ipywidgets) (3.0.9)\n",
      "Requirement already satisfied: pure-eval in /opt/miniconda3/lib/python3.9/site-packages (from stack-data->ipython>=6.1.0->ipywidgets) (0.2.2)\n",
      "Requirement already satisfied: executing in /opt/miniconda3/lib/python3.9/site-packages (from stack-data->ipython>=6.1.0->ipywidgets) (1.0.0)\n",
      "Requirement already satisfied: asttokens in /opt/miniconda3/lib/python3.9/site-packages (from stack-data->ipython>=6.1.0->ipywidgets) (2.0.8)\n",
      "Requirement already satisfied: six>=1.5 in /opt/miniconda3/lib/python3.9/site-packages (from python-dateutil>=2.8.2->jupyter-client>=6.1.12->ipykernel>=4.5.1->ipywidgets) (1.16.0)\n",
      "Note: you may need to restart the kernel to use updated packages.\n"
     ]
    }
   ],
   "source": [
    "pip install ipywidgets"
   ]
  },
  {
   "cell_type": "code",
   "execution_count": 25,
   "id": "392d5d78-a879-492f-ab43-d12b79c0af6c",
   "metadata": {},
   "outputs": [],
   "source": [
    "from ipywidgets import interact\n",
    "import matplotlib.pyplot as plt\n",
    "import random as rnd\n",
    "import math\n",
    "import time"
   ]
  },
  {
   "cell_type": "markdown",
   "id": "bb47051d-0426-4e47-b9ef-9e610fd51c18",
   "metadata": {
    "tags": []
   },
   "source": [
    "# Machine Learning"
   ]
  },
  {
   "cell_type": "markdown",
   "id": "e2eb9983-c570-4454-8195-6c64977c659c",
   "metadata": {
    "tags": []
   },
   "source": [
    "### Bronnen"
   ]
  },
  {
   "cell_type": "markdown",
   "id": "45f3a8dc-4d1a-46aa-b4e9-89c24cfb16f0",
   "metadata": {},
   "source": [
    "**Fast.ai**\n",
    "\n",
    "+ [Practical Deep Learning for Coders](https://course.fast.ai/)\n",
    "+ [Neural net foundations](https://course.fast.ai/Lessons/lesson3.html)\n",
    "\n",
    "**CodingTrain**:\n",
    "\n",
    "+ [Linear Regression with Gradient Descent](https://www.youtube.com/watch?v=L-Lsfu4ab74)\n",
    "+ [Mathematics of Gradient Descent](https://www.youtube.com/watch?v=jc2IthslyzM)"
   ]
  },
  {
   "cell_type": "markdown",
   "id": "079a9765-fa1d-4225-b339-c52cc87727ba",
   "metadata": {
    "tags": []
   },
   "source": [
    "### Huisprijs model"
   ]
  },
  {
   "cell_type": "markdown",
   "id": "b32c6aad-ed24-476d-8289-c7fe41db0959",
   "metadata": {},
   "source": [
    "+ **prijs** wordt bepaald door **prijs per vierkante meter** en **vaste grondprijs**\n",
    "+ p = m*x + b"
   ]
  },
  {
   "cell_type": "markdown",
   "id": "f33e24d6-c4dd-448c-bf41-f4187be22b5b",
   "metadata": {
    "tags": []
   },
   "source": [
    "### Preparation"
   ]
  },
  {
   "cell_type": "code",
   "execution_count": 26,
   "id": "8afb3625-afa5-4325-a24f-f8f89ba90f49",
   "metadata": {},
   "outputs": [],
   "source": [
    "# Prices in euro\n",
    "m = 0.7\n",
    "b = 300\n",
    "\n",
    "m2 = [x for x in range(100, 1000, 10)]\n",
    "price = [m * x + b for x in m2]\n",
    "\n",
    "# print(m2)\n",
    "# print(price)"
   ]
  },
  {
   "cell_type": "code",
   "execution_count": 27,
   "id": "5ce87853-41a7-4029-be48-ffbaf566bb06",
   "metadata": {},
   "outputs": [
    {
     "data": {
      "image/png": "[encoded data removed]",
      "text/plain": [
       "<Figure size 640x480 with 1 Axes>"
      ]
     },
     "metadata": {},
     "output_type": "display_data"
    }
   ],
   "source": [
    "fig, ax = plt.subplots()\n",
    "\n",
    "ax.set(xlim=[0, 1100], ylim=[0, 1100], xlabel='Oppervlakte in m2', ylabel='Prijs in duizend euro', title='Huisprijs')\n",
    "\n",
    "plt.scatter(m2, price)\n",
    "plt.show()"
   ]
  },
  {
   "cell_type": "markdown",
   "id": "2cfe702b-b479-4282-a7a6-e882663f4cfb",
   "metadata": {},
   "source": [
    "Let's add some randomness"
   ]
  },
  {
   "cell_type": "code",
   "execution_count": 28,
   "id": "7a48ca5b-4a6c-4f1d-9857-3190d9cdd804",
   "metadata": {},
   "outputs": [],
   "source": [
    "# The answer to everything\n",
    "rnd.seed(42)\n",
    "\n",
    "# Mean\n",
    "mu = 25\n",
    "\n",
    "# Define standard deviation (spread)\n",
    "sigma = 70\n",
    "\n",
    "# Generate data\n",
    "noisy_price = [m * x + b + rnd.gauss(mu, sigma) for x in m2]\n",
    "\n",
    "# print(noisy_price)"
   ]
  },
  {
   "cell_type": "markdown",
   "id": "3f33de09-ccaf-4618-8984-bc6636aa6995",
   "metadata": {},
   "source": [
    "And plot the results..."
   ]
  },
  {
   "cell_type": "code",
   "execution_count": 29,
   "id": "5dab5ecc-df21-4931-8689-19764d929f71",
   "metadata": {},
   "outputs": [
    {
     "data": {
      "image/png": "[encoded data removed]",
      "text/plain": [
       "<Figure size 640x480 with 1 Axes>"
      ]
     },
     "metadata": {},
     "output_type": "display_data"
    }
   ],
   "source": [
    "fig, ax = plt.subplots()\n",
    "\n",
    "ax.set(xlim=[0, 1100], ylim=[0, 1100], xlabel='Oppervlakte in m2', ylabel='Prijs in duizend euro', title='Huisprijs')\n",
    "\n",
    "plt.scatter(m2, noisy_price)\n",
    "plt.show()"
   ]
  },
  {
   "cell_type": "markdown",
   "id": "76412025-3e68-4c79-90a1-98a8f02ba192",
   "metadata": {
    "tags": []
   },
   "source": [
    "### Data"
   ]
  },
  {
   "cell_type": "code",
   "execution_count": 30,
   "id": "689fee69-062e-4dd9-b642-1a15b22a84ed",
   "metadata": {},
   "outputs": [],
   "source": [
    "m2 = [100, 110, 120, 130, 140, 150, 160, 170, 180, 190, 200, 210, 220, 230, 240, 250, 260, 270, 280, 290, 300, 310, 320, 330, 340, 350, 360, 370, 380, 390, 400, 410, 420, 430, 440, 450, 460, 470, 480, 490, 500, 510, 520, 530, 540, 550, 560, 570, 580, 590, 600, 610, 620, 630, 640, 650, 660, 670, 680, 690, 700, 710, 720, 730, 740, 750, 760, 770, 780, 790, 800, 810, 820, 830, 840, 850, 860, 870, 880, 890, 900, 910, 920, 930, 940, 950, 960, 970, 980, 990]"
   ]
  },
  {
   "cell_type": "code",
   "execution_count": 31,
   "id": "de8dba48-750c-4ecb-8740-856c0c40e6cb",
   "metadata": {},
   "outputs": [],
   "source": [
    "prices = [384.91367692954503, 389.8967479767937, 401.20788969026364, 465.1388607569204, 414.0688201351979, 325.18526099613297, 460.2622840847401, 425.28637650519823, 435.81289210983635, 466.1119350690599, 481.26084158347044, 553.44910806194, 524.9645554759068, 493.73550242106825, 441.31748783586255, 428.9736342758598, 524.2439536647842, 605.7756579042834, 523.9159804732369, 520.5573694360451, 572.2243354280608, 440.25182913939256, 527.1405877998808, 590.3253772815467, 624.1383069765612, 553.1559229141405, 603.3619901081537, 601.374941452989, 645.7628766092549, 520.074445002628, 644.777548130977, 505.9835725792402, 435.60382044468037, 583.5176490260349, 568.8932967557804, 701.3208570139484, 693.4986129729026, 568.6647681093013, 720.31529963436, 597.8458023030355, 668.9629307564601, 661.4270155430428, 697.0093900222645, 753.3045418080637, 747.688965355471, 734.4919571308446, 762.4963668464409, 757.4944426355083, 687.111017434628, 687.7840234328396, 712.102220810479, 786.9528480333747, 741.4919100301831, 929.5027955736383, 715.6495220469454, 703.0787780068489, 840.7931460828787, 893.5294986940426, 836.3984883587482, 866.5072142177371, 914.8441484209513, 815.4180766788587, 729.3928746802716, 798.7546416176901, 909.7027030121603, 748.9425115745198, 859.3471924551083, 881.7266151539443, 848.9085484630431, 928.6542390457668, 925.6545819068597, 1054.4985961830512, 942.3977437441195, 863.3417578949857, 873.6741685366178, 861.7893229130596, 993.6591491871075, 894.321701563041, 936.0817458409582, 1000.4511833502772, 904.3575906544015, 941.4439425467597, 840.1099614077259, 900.2264966672901, 943.2584511465706, 1019.103269196167, 1080.5445290710309, 1002.7073230785402, 1029.2954995439861, 1029.7578557983063]"
   ]
  },
  {
   "cell_type": "markdown",
   "id": "c46adc44-592b-47bd-8496-4846784a3a9d",
   "metadata": {
    "tags": []
   },
   "source": [
    "### Handmatig matchen\n",
    "uitdaging: wie matcht het best?"
   ]
  },
  {
   "cell_type": "code",
   "execution_count": 32,
   "id": "192806ff-291c-4c27-83ac-22b14753bbb7",
   "metadata": {},
   "outputs": [
    {
     "data": {
      "application/vnd.jupyter.widget-view+json": {
       "model_id": "eff0366723084776879dbfbf391a8293",
       "version_major": 2,
       "version_minor": 0
      },
      "text/plain": [
       "interactive(children=(FloatSlider(value=0.0, description='m', max=2.0, min=-2.0, step=0.01), IntSlider(value=0…"
      ]
     },
     "metadata": {},
     "output_type": "display_data"
    },
    {
     "data": {
      "text/plain": [
       "<function __main__.manualFit(m, b)>"
      ]
     },
     "execution_count": 32,
     "metadata": {},
     "output_type": "execute_result"
    }
   ],
   "source": [
    "def manualFit(m, b):\n",
    "    fit = [m * x + b for x in m2]\n",
    "    \n",
    "    fig, ax = plt.subplots()\n",
    "\n",
    "    ax.set(xlim=[0, 1100], ylim=[0, 1100], xlabel='Oppervlakte in m2', ylabel='Prijs in duizend euro', title='Huisprijs')\n",
    "    \n",
    "    plt.scatter(m2, prices)\n",
    "    plt.plot(m2, fit, 'red')\n",
    "    \n",
    "    plt.show()\n",
    "    \n",
    "interact(manualFit, m=(-2,2,0.01), b=(-1000,1000))"
   ]
  },
  {
   "cell_type": "markdown",
   "id": "e8a06ddd-344a-42a6-8fc5-3bccc20376a4",
   "metadata": {
    "tags": []
   },
   "source": [
    "### Toevoegen error & loss"
   ]
  },
  {
   "cell_type": "code",
   "execution_count": 51,
   "id": "e7f3c443-70cb-422c-98bf-d25de4f048f5",
   "metadata": {},
   "outputs": [
    {
     "data": {
      "application/vnd.jupyter.widget-view+json": {
       "model_id": "8362117de31a4424b4a605e782b66f84",
       "version_major": 2,
       "version_minor": 0
      },
      "text/plain": [
       "interactive(children=(FloatSlider(value=0.0, description='m', max=2.0, min=-2.0, step=0.01), IntSlider(value=0…"
      ]
     },
     "metadata": {},
     "output_type": "display_data"
    },
    {
     "data": {
      "text/plain": [
       "<function __main__.manualFit(m, b)>"
      ]
     },
     "execution_count": 51,
     "metadata": {},
     "output_type": "execute_result"
    }
   ],
   "source": [
    "def error(actual, predicted):\n",
    "    return actual - predicted\n",
    "\n",
    "def loss(fit):\n",
    "    l = 0\n",
    "    # Sum of squared errors\n",
    "    for i in range(0, len(m2)):\n",
    "        err = error(prices[i], fit[i])\n",
    "        l += (err**2)\n",
    "    return math.sqrt(l / len(m2))\n",
    "\n",
    "def manualFit(m, b):\n",
    "    fit = [m * x + b for x in m2]\n",
    "    \n",
    "    fig, ax = plt.subplots()\n",
    "\n",
    "    ax.set(xlim=[0, 1100], ylim=[0, 1100], xlabel='Oppervlakte in m2', ylabel='Prijs in duizend euro', title='Huisprijs')\n",
    "    \n",
    "    plt.scatter(m2, prices)\n",
    "    plt.plot(m2, fit, 'red')\n",
    "    \n",
    "    plt.show()\n",
    "    \n",
    "    print(loss(fit))\n",
    "    \n",
    "interact(manualFit, m=(-2,2,0.01), b=(-1000,1000))"
   ]
  },
  {
   "cell_type": "markdown",
   "id": "3774bb48-10bb-41b5-a312-3c370eb6c9fe",
   "metadata": {
    "tags": []
   },
   "source": [
    "### Automatiseren (machine learning)"
   ]
  },
  {
   "cell_type": "code",
   "execution_count": 45,
   "id": "1a4b8b32-0998-4ba8-bde9-2d92b6677b4d",
   "metadata": {},
   "outputs": [
    {
     "name": "stdout",
     "output_type": "stream",
     "text": [
      "initial loss:  732.9188985681157\n",
      "epoch:  0\n",
      "loss:  145.45988597423664\n",
      "epoch:  1\n",
      "loss:  136.99645973532003\n",
      "epoch:  2\n",
      "loss:  129.24391672487062\n",
      "epoch:  3\n",
      "loss:  122.15533638953781\n",
      "epoch:  4\n",
      "loss:  115.68654006219647\n",
      "epoch:  5\n",
      "loss:  109.7957988177612\n",
      "epoch:  6\n",
      "loss:  104.44357064307526\n",
      "epoch:  7\n",
      "loss:  99.5922707708252\n",
      "epoch:  8\n",
      "loss:  95.20607868847904\n",
      "epoch:  9\n",
      "loss:  91.25078439269352\n",
      "epoch:  10\n",
      "loss:  87.69367492877518\n",
      "epoch:  11\n",
      "loss:  84.50346025332689\n",
      "epoch:  12\n",
      "loss:  81.65023521247019\n",
      "epoch:  13\n",
      "loss:  79.10547224019093\n",
      "epoch:  14\n",
      "loss:  76.84203757349647\n",
      "epoch:  15\n",
      "loss:  74.83422262745879\n",
      "epoch:  16\n",
      "loss:  73.05778184019356\n",
      "epoch:  17\n",
      "loss:  71.48996880966693\n",
      "epoch:  18\n",
      "loss:  70.10956378460475\n",
      "epoch:  19\n",
      "loss:  68.89688731847147\n",
      "epoch:  20\n",
      "loss:  67.83379687553682\n",
      "epoch:  21\n",
      "loss:  66.90366512578326\n",
      "epoch:  22\n",
      "loss:  66.09134036822773\n",
      "epoch:  23\n",
      "loss:  65.38309084534076\n",
      "epoch:  24\n",
      "loss:  64.76653560106689\n",
      "epoch:  25\n",
      "loss:  64.23056500607703\n",
      "epoch:  26\n",
      "loss:  63.76525418766399\n",
      "epoch:  27\n",
      "loss:  63.36177244333607\n",
      "epoch:  28\n",
      "loss:  63.01229137661466\n",
      "epoch:  29\n",
      "loss:  62.70989405214866\n",
      "epoch:  30\n",
      "loss:  62.44848699064113\n",
      "epoch:  31\n",
      "loss:  62.22271635980491\n",
      "epoch:  32\n",
      "loss:  62.02788929624558\n",
      "epoch:  33\n",
      "loss:  61.859900931324844\n",
      "epoch:  34\n",
      "loss:  61.71516739759017\n",
      "epoch:  35\n",
      "loss:  61.59056485994676\n",
      "epoch:  36\n",
      "loss:  61.48337444163866\n",
      "epoch:  37\n",
      "loss:  61.39123279132687\n",
      "epoch:  38\n",
      "loss:  61.312087955391256\n",
      "epoch:  39\n",
      "loss:  61.24416017059467\n",
      "epoch:  40\n",
      "loss:  61.18590716879899\n",
      "epoch:  41\n",
      "loss:  61.13599358094968\n",
      "epoch:  42\n",
      "loss:  61.093264036627396\n",
      "epoch:  43\n",
      "loss:  61.05671957375635\n",
      "epoch:  44\n",
      "loss:  61.02549699718504\n",
      "epoch:  45\n",
      "loss:  60.998850852256716\n",
      "epoch:  46\n",
      "loss:  60.97613770828519\n",
      "epoch:  47\n",
      "loss:  60.95680247570405\n",
      "epoch:  48\n",
      "loss:  60.940366508647294\n",
      "epoch:  49\n",
      "loss:  60.92641727124474\n",
      "epoch:  50\n",
      "loss:  60.91459937062457\n",
      "epoch:  51\n",
      "loss:  60.90460678232001\n",
      "epoch:  52\n",
      "loss:  60.89617611442351\n",
      "epoch:  53\n",
      "loss:  60.889080775445855\n",
      "epoch:  54\n",
      "loss:  60.88312592750349\n",
      "epoch:  55\n",
      "loss:  60.87814412129565\n",
      "epoch:  56\n",
      "loss:  60.873991522480985\n",
      "epoch:  57\n",
      "loss:  60.87054465066768\n",
      "epoch:  58\n",
      "loss:  60.867697562441656\n",
      "epoch:  59\n",
      "loss:  60.86535941881278\n",
      "epoch:  60\n",
      "loss:  60.86345238530043\n",
      "epoch:  61\n",
      "loss:  60.86190981972585\n",
      "epoch:  62\n",
      "loss:  60.86067470875225\n",
      "epoch:  63\n",
      "loss:  60.8596983194124\n",
      "epoch:  64\n",
      "loss:  60.85893903638765\n",
      "epoch:  65\n",
      "loss:  60.85836135973009\n",
      "epoch:  66\n",
      "loss:  60.857935041132045\n",
      "epoch:  67\n",
      "loss:  60.857634339804136\n",
      "epoch:  68\n",
      "loss:  60.85743738158779\n",
      "epoch:  69\n",
      "loss:  60.8573256071498\n",
      "epoch:  70\n",
      "loss:  60.8572832970289\n",
      "epoch:  71\n",
      "loss:  60.85729716296938\n",
      "epoch:  72\n",
      "loss:  60.857355996417134\n",
      "epoch:  73\n",
      "loss:  60.85745036629738\n",
      "epoch:  74\n",
      "loss:  60.85757235927185\n",
      "epoch:  75\n",
      "loss:  60.85771535660269\n",
      "epoch:  76\n",
      "loss:  60.85787384255495\n",
      "epoch:  77\n",
      "loss:  60.85804323996439\n",
      "epoch:  78\n",
      "loss:  60.85821976919754\n",
      "epoch:  79\n",
      "loss:  60.85840032724917\n",
      "epoch:  80\n",
      "loss:  60.858582384170624\n",
      "epoch:  81\n",
      "loss:  60.85876389440777\n",
      "epoch:  82\n",
      "loss:  60.85894322096253\n",
      "epoch:  83\n",
      "loss:  60.85911907057846\n",
      "epoch:  84\n",
      "loss:  60.8592904384007\n",
      "epoch:  85\n",
      "loss:  60.85945656077392\n",
      "epoch:  86\n",
      "loss:  60.85961687502821\n",
      "epoch:  87\n",
      "loss:  60.859770985261285\n",
      "epoch:  88\n",
      "loss:  60.859918633264115\n",
      "epoch:  89\n",
      "loss:  60.86005967385515\n",
      "epoch:  90\n",
      "loss:  60.86019405399134\n",
      "epoch:  91\n",
      "loss:  60.860321795111766\n",
      "epoch:  92\n",
      "loss:  60.86044297824654\n",
      "epoch:  93\n",
      "loss:  60.86055773148898\n",
      "epoch:  94\n",
      "loss:  60.86066621948511\n",
      "epoch:  95\n",
      "loss:  60.86076863464428\n",
      "epoch:  96\n",
      "loss:  60.86086518981583\n",
      "epoch:  97\n",
      "loss:  60.86095611221293\n",
      "epoch:  98\n",
      "loss:  60.86104163839675\n",
      "epoch:  99\n",
      "loss:  60.86112201015918\n",
      "mFit:  0.7197315992851687 bFit:  317.2863356195183\n",
      "final loss:  60.86112201015918\n"
     ]
    },
    {
     "data": {
      "image/png": "[encoded data removed]",
      "text/plain": [
       "<Figure size 640x480 with 1 Axes>"
      ]
     },
     "metadata": {},
     "output_type": "display_data"
    }
   ],
   "source": [
    "# Learning iterations\n",
    "epochs = 100\n",
    "\n",
    "# Learning rate\n",
    "learningRateM = 0.000001\n",
    "learningRateB = 0.01\n",
    "\n",
    "#------------------------------------------\n",
    "\n",
    "# Initial values (\"guess\")\n",
    "mFit = 0.0\n",
    "bFit = 0.0\n",
    "\n",
    "#------------------------------------------\n",
    "\n",
    "def loss(m, b):\n",
    "    \n",
    "    l = 0\n",
    "    \n",
    "    # Sum of squared errors\n",
    "    for i in range(0, len(m2)):\n",
    "        \n",
    "        guess = m * m2[i] + b\n",
    "        err = prices[i] - guess\n",
    "        \n",
    "        l += (err**2)\n",
    "    \n",
    "    return math.sqrt(l / len(m2))\n",
    "\n",
    "#------------------------------------------\n",
    "\n",
    "def gradientDescent(m, b, i):\n",
    "    \n",
    "    guess = m * m2[i] + b\n",
    "    err = prices[i] - guess\n",
    "\n",
    "    # print(\"error: \", err)\n",
    "\n",
    "    # Stochastic gradient descent\n",
    "    m += err * learningRateM * m2[i]\n",
    "    b += err * learningRateB\n",
    "\n",
    "    # print(\"m: \", m, \"b: \", b)\n",
    "        \n",
    "    return m, b\n",
    "    \n",
    "#------------------------------------------\n",
    "\n",
    "def learn(m, b):\n",
    "    \n",
    "    for i in range(0, len(m2)):\n",
    "\n",
    "        # Adjust m and b, given input price\n",
    "        m, b = gradientDescent(m, b, i)\n",
    "        \n",
    "    return m, b\n",
    "\n",
    "#------------------------------------------\n",
    "\n",
    "def plotFit():\n",
    "    \n",
    "    fig, ax = plt.subplots()\n",
    "\n",
    "    ax.set(xlim=[0, 1100], ylim=[0, 1100], xlabel='Oppervlakte in m2', ylabel='Prijs in duizend euro', title='Huisprijs')\n",
    "\n",
    "\n",
    "    fit = [mFit * x + bFit for x in m2]\n",
    "\n",
    "    plt.scatter(m2, prices)\n",
    "    plt.plot(m2, fit, 'red')\n",
    "\n",
    "    plt.show()\n",
    "\n",
    "#------------------------------------------\n",
    "\n",
    "epoch = 0\n",
    "\n",
    "# Inital loss\n",
    "l = loss(mFit, bFit)\n",
    "\n",
    "print(\"initial loss: \", loss(mFit, bFit))\n",
    "\n",
    "#------------------------------------------\n",
    "\n",
    "while epoch < epochs:\n",
    "    \n",
    "    print(\"epoch: \", epoch)\n",
    "    \n",
    "    mFit, bFit = learn(mFit, bFit)\n",
    "    \n",
    "    print(\"loss: \", loss(mFit, bFit))\n",
    "    \n",
    "    epoch += 1\n",
    "    \n",
    "    time.sleep(1)\n",
    "    \n",
    "    # plotFit()\n",
    "    \n",
    "#------------------------------------------\n",
    "\n",
    "print(\"mFit: \", mFit, \"bFit: \", bFit)\n",
    "print(\"final loss: \", loss(mFit, bFit))\n",
    "\n",
    "plotFit()"
   ]
  },
  {
   "cell_type": "markdown",
   "id": "d2eebb08-e24b-4f99-a22b-2ae89d0ce43f",
   "metadata": {
    "tags": []
   },
   "source": [
    "# Deep Learning"
   ]
  },
  {
   "cell_type": "markdown",
   "id": "7336d81e-3fbe-405b-8924-5fb9d995dbc1",
   "metadata": {
    "tags": []
   },
   "source": [
    "### Preparation"
   ]
  },
  {
   "cell_type": "code",
   "execution_count": 35,
   "id": "276b49e5-4e09-47c1-bc79-5819674625ab",
   "metadata": {},
   "outputs": [],
   "source": [
    "def preparePlot(t):\n",
    "    \n",
    "    fig, ax = plt.subplots()\n",
    "    ax.set(xlim=[-10, 10], ylim=[-50, 400], xlabel='x', ylabel='y', title=t)\n",
    "\n",
    "def plotCurve(x, y, scatter):\n",
    "\n",
    "    if scatter:\n",
    "        plt.scatter(x, y)\n",
    "    else:\n",
    "        plt.plot(x, y, 'red')\n",
    "\n",
    "def showPlot():\n",
    "    \n",
    "    plt.show()"
   ]
  },
  {
   "cell_type": "code",
   "execution_count": 36,
   "id": "5aa5ca0e-99ce-4a7a-a222-6e2277b280af",
   "metadata": {},
   "outputs": [
    {
     "name": "stdout",
     "output_type": "stream",
     "text": [
      "[-10, -9, -8, -7, -6, -5, -4, -3, -2, -1, 0, 1, 2, 3, 4, 5, 6, 7, 8, 9, 10]\n"
     ]
    }
   ],
   "source": [
    "x = [x for x in range(-10, 11, 1)]\n",
    "\n",
    "print(x)"
   ]
  },
  {
   "cell_type": "code",
   "execution_count": 37,
   "id": "2f91d22a-57cf-463f-b6e6-9a35e655f0d2",
   "metadata": {},
   "outputs": [
    {
     "name": "stdout",
     "output_type": "stream",
     "text": [
      "[160, 125, 94, 67, 44, 25, 10, -1, -8, -11, -10, -5, 4, 17, 34, 55, 80, 109, 142, 179, 220]\n"
     ]
    }
   ],
   "source": [
    "a = 2\n",
    "b = 3\n",
    "c = -10\n",
    "\n",
    "# Prepare random data\n",
    "y = [a * x**2 + b * x + c for x in x]\n",
    "\n",
    "# Mean\n",
    "mu = 5\n",
    "\n",
    "# Define standard deviation (spread)\n",
    "sigma = 20\n",
    "\n",
    "# Prepare random data\n",
    "yNoise = [a * x**2 + b * x + c + rnd.gauss(mu, sigma) for x in x]\n",
    "\n",
    "print(y)"
   ]
  },
  {
   "cell_type": "code",
   "execution_count": 38,
   "id": "4647d61c-33c8-4edc-b356-f57dc689aa76",
   "metadata": {},
   "outputs": [
    {
     "data": {
      "image/png": "[encoded data removed]",
      "text/plain": [
       "<Figure size 640x480 with 1 Axes>"
      ]
     },
     "metadata": {},
     "output_type": "display_data"
    }
   ],
   "source": [
    "preparePlot(\"Parabool\")\n",
    "plotCurve(x,y, False)\n",
    "plotCurve(x,yNoise, True)\n",
    "showPlot()"
   ]
  },
  {
   "cell_type": "markdown",
   "id": "1421b00c-3903-426c-803e-e8c4e34b48d3",
   "metadata": {
    "tags": []
   },
   "source": [
    "## Doel: best fit maken"
   ]
  },
  {
   "cell_type": "markdown",
   "id": "4100e5ee-acbe-4f07-9ba1-307a8d64f379",
   "metadata": {
    "tags": []
   },
   "source": [
    "### ReLU: Rectified Linear Unit"
   ]
  },
  {
   "cell_type": "code",
   "execution_count": 39,
   "id": "1dcf2502-27de-4664-866c-42ac0b2e4344",
   "metadata": {},
   "outputs": [],
   "source": [
    "def relu(m, b, x):\n",
    "    \n",
    "    y = m * x + b\n",
    "    \n",
    "    if y < 0:\n",
    "        return 0\n",
    "    else:\n",
    "        return y"
   ]
  },
  {
   "cell_type": "code",
   "execution_count": 40,
   "id": "93dbeb1e-71f8-405a-8d80-6c3b65abee19",
   "metadata": {},
   "outputs": [
    {
     "data": {
      "application/vnd.jupyter.widget-view+json": {
       "model_id": "0deee4ae000a4f3c99f715882dd98bb0",
       "version_major": 2,
       "version_minor": 0
      },
      "text/plain": [
       "interactive(children=(FloatSlider(value=0.0, description='m', max=10.0, min=-10.0), FloatSlider(value=0.0, des…"
      ]
     },
     "metadata": {},
     "output_type": "display_data"
    },
    {
     "data": {
      "text/plain": [
       "<function __main__.manualRelu(m, b)>"
      ]
     },
     "execution_count": 40,
     "metadata": {},
     "output_type": "execute_result"
    }
   ],
   "source": [
    "def manualRelu(m, b):\n",
    "    \n",
    "    rlu = [relu(m, b, x) for x in x]\n",
    "    \n",
    "    preparePlot(\"Relu\")\n",
    "    plotCurve(x, rlu, False)\n",
    "    \n",
    "interact(manualRelu, m=(-10,10,0.1), b=(-10,10,0.1))"
   ]
  },
  {
   "cell_type": "markdown",
   "id": "e875413a-ee27-4ef3-b317-f3bf1df27441",
   "metadata": {
    "tags": []
   },
   "source": [
    "### Handmatige parabool fit met ReLU"
   ]
  },
  {
   "cell_type": "code",
   "execution_count": 56,
   "id": "e42ed231-5941-48ad-8e64-67a9a22ab1f7",
   "metadata": {},
   "outputs": [
    {
     "data": {
      "application/vnd.jupyter.widget-view+json": {
       "model_id": "1b0ef6a373694ee8a301182978981295",
       "version_major": 2,
       "version_minor": 0
      },
      "text/plain": [
       "interactive(children=(FloatSlider(value=0.0, description='m1', max=50.0, min=-50.0, step=0.01), FloatSlider(va…"
      ]
     },
     "metadata": {},
     "output_type": "display_data"
    },
    {
     "data": {
      "text/plain": [
       "<function __main__.parabolaFit(m1, b1, m2, b2)>"
      ]
     },
     "execution_count": 56,
     "metadata": {},
     "output_type": "execute_result"
    }
   ],
   "source": [
    "def parabolaFit(m1, b1, m2, b2):\n",
    "    \n",
    "    fit = [relu(m1, b1, x) + relu(m2, b2, x) for x in x]\n",
    "    \n",
    "    preparePlot(\"Twee relu's\")\n",
    "    \n",
    "    plotCurve(x, fit, False)\n",
    "    plotCurve(x, yNoise, True)\n",
    "    \n",
    "    showPlot()\n",
    "    print(\"final loss: \", loss(m1, b1, m2, b2))\n",
    "\n",
    "interact(parabolaFit, m1=(-50,50,0.01), b1=(-100,100,0.01), m2=(-50,50,0.01), b2=(-100,100,0.01))\n",
    "\n"
   ]
  },
  {
   "cell_type": "markdown",
   "id": "1e292586-9762-4918-a02a-2c8bf1112451",
   "metadata": {
    "tags": []
   },
   "source": [
    "### Automatische parabool fit"
   ]
  },
  {
   "cell_type": "code",
   "execution_count": 54,
   "id": "aaf91953-511e-43a6-b997-7a3a6464d4bc",
   "metadata": {},
   "outputs": [
    {
     "name": "stdout",
     "output_type": "stream",
     "text": [
      "initial loss:  92.81163720137685\n",
      "epoch:  0\n",
      "loss:  59.73026134865199\n",
      "epoch:  1\n",
      "loss:  60.02707326564291\n",
      "epoch:  2\n",
      "loss:  59.971435407624455\n",
      "epoch:  3\n",
      "loss:  40.607842763577224\n",
      "epoch:  4\n",
      "loss:  32.69948685894017\n",
      "epoch:  5\n",
      "loss:  31.252879374864047\n",
      "epoch:  6\n",
      "loss:  29.90926646960815\n",
      "epoch:  7\n",
      "loss:  28.666939702723802\n",
      "epoch:  8\n",
      "loss:  27.54960463571537\n",
      "epoch:  9\n",
      "loss:  26.52289393562102\n",
      "epoch:  10\n",
      "loss:  25.57748633181822\n",
      "epoch:  11\n",
      "loss:  24.705322750968058\n",
      "epoch:  12\n",
      "loss:  23.88337650188926\n",
      "epoch:  13\n",
      "loss:  23.106080037379947\n",
      "epoch:  14\n",
      "loss:  22.369612029318862\n",
      "epoch:  15\n",
      "loss:  21.694530564991734\n",
      "epoch:  16\n",
      "loss:  21.057264518030728\n",
      "epoch:  17\n",
      "loss:  20.45258873804572\n",
      "epoch:  18\n",
      "loss:  19.87943464080298\n",
      "epoch:  19\n",
      "loss:  19.33675376407861\n",
      "epoch:  20\n",
      "loss:  18.823515434577697\n",
      "epoch:  21\n",
      "loss:  18.33870465180517\n",
      "epoch:  22\n",
      "loss:  17.881320219773883\n",
      "epoch:  23\n",
      "loss:  17.450373155352292\n",
      "epoch:  24\n",
      "loss:  17.04301351912524\n",
      "epoch:  25\n",
      "loss:  16.659409625382285\n",
      "epoch:  26\n",
      "loss:  16.285819414129683\n",
      "epoch:  27\n",
      "loss:  15.925861087303776\n",
      "epoch:  28\n",
      "loss:  15.58221220592235\n",
      "epoch:  29\n",
      "loss:  15.254418318627886\n",
      "epoch:  30\n",
      "loss:  14.942677203199507\n",
      "epoch:  31\n",
      "loss:  14.6438762847341\n",
      "epoch:  32\n",
      "loss:  14.356360197985019\n",
      "epoch:  33\n",
      "loss:  14.079896454586583\n",
      "epoch:  34\n",
      "loss:  13.814249842735126\n",
      "epoch:  35\n",
      "loss:  13.559186427418785\n",
      "epoch:  36\n",
      "loss:  13.314473197772829\n",
      "epoch:  37\n",
      "loss:  13.079877791457184\n",
      "epoch:  38\n",
      "loss:  12.855168247141371\n",
      "epoch:  39\n",
      "loss:  12.640112788665947\n",
      "epoch:  40\n",
      "loss:  12.434479643591898\n",
      "epoch:  41\n",
      "loss:  12.23803689854145\n",
      "epoch:  42\n",
      "loss:  12.050552393335863\n",
      "epoch:  43\n",
      "loss:  11.871793655466433\n",
      "epoch:  44\n",
      "loss:  11.701527875900714\n",
      "epoch:  45\n",
      "loss:  11.539521926637176\n",
      "epoch:  46\n",
      "loss:  11.385542419795222\n",
      "epoch:  47\n",
      "loss:  11.239355807377454\n",
      "epoch:  48\n",
      "loss:  11.100728520187161\n",
      "epoch:  49\n",
      "loss:  10.969427143744925\n",
      "m1Fit:  -21.773991245598765 b1Fit:  -77.5842894257824 m2Fit:  30.09455410423201 b2Fit:  -80.80693761864924\n",
      "final loss:  10.969427143744925\n"
     ]
    },
    {
     "data": {
      "image/png": "[encoded data removed]",
      "text/plain": [
       "<Figure size 640x480 with 1 Axes>"
      ]
     },
     "metadata": {},
     "output_type": "display_data"
    }
   ],
   "source": [
    "# Learning iterations\n",
    "epochs = 50\n",
    "\n",
    "# Learning rate\n",
    "learningRate = 0.01\n",
    "\n",
    "#------------------------------------------\n",
    "\n",
    "# Initial values (\"guess\")\n",
    "m1Fit = 0.0\n",
    "b1Fit = 0.0\n",
    "m2Fit = 0.0\n",
    "b2Fit = 0.0\n",
    "\n",
    "#------------------------------------------\n",
    "\n",
    "def loss(m1, b1, m2, b2):\n",
    "    \n",
    "    l = 0\n",
    "    \n",
    "    # Sum of squared errors\n",
    "    for i in range(0, len(x)):\n",
    "        \n",
    "        guess = relu(m1, b1, x[i]) + relu(m2, b2, x[i])\n",
    "        err = y[i] - guess\n",
    "        \n",
    "        l += (err**2)\n",
    "    \n",
    "    return math.sqrt(l / len(x))\n",
    "\n",
    "#------------------------------------------\n",
    "\n",
    "def gradientDescent(m1, b1, m2, b2, i):\n",
    "    \n",
    "    # First guess\n",
    "    guess1 = relu(m1, b1, x[i]) + relu(m2, b2, x[i])\n",
    "    err1 = y[i] - guess1\n",
    "\n",
    "    # print(\"error: \", err)\n",
    "\n",
    "    # Stochastic gradient descent\n",
    "    m1 += err1 * learningRate * x[i]\n",
    "    b1 += err1 * learningRate\n",
    "    \n",
    "    # Second guess\n",
    "    guess2 = relu(m1, b1, x[i]) + relu(m2, b2, x[i])\n",
    "    err2 = y[i] - guess2\n",
    "\n",
    "    # print(\"error: \", err)\n",
    "\n",
    "    # Stochastic gradient descent\n",
    "    m2 += err2 * learningRate * x[i]\n",
    "    b2 += err2 * learningRate\n",
    "\n",
    "    # print(\"m: \", m, \"b: \", b)\n",
    "        \n",
    "    return m1, b1, m2, b2\n",
    "    \n",
    "#------------------------------------------\n",
    "\n",
    "def learn(m1, b1, m2, b2):\n",
    "    \n",
    "    for i in range(0, len(x)):\n",
    "\n",
    "        # Adjust m and b, given input\n",
    "        m1, b1, m2, b2 = gradientDescent(m1, b1, m2, b2, i)\n",
    "        \n",
    "    return m1, b1, m2, b2\n",
    "\n",
    "#------------------------------------------\n",
    "\n",
    "epoch = 0\n",
    "\n",
    "# Inital loss\n",
    "l = loss(m1Fit, b1Fit, m2Fit, b2Fit)\n",
    "\n",
    "print(\"initial loss: \", loss(m1Fit, b1Fit, m2Fit, b2Fit))\n",
    "\n",
    "#------------------------------------------\n",
    "\n",
    "while epoch < epochs:\n",
    "    \n",
    "    print(\"epoch: \", epoch)\n",
    "    \n",
    "    m1Fit, b1Fit, m2Fit, b2Fit = learn(m1Fit, b1Fit, m2Fit, b2Fit)\n",
    "    \n",
    "    print(\"loss: \", loss(m1Fit, b1Fit, m2Fit, b2Fit))\n",
    "    \n",
    "    epoch += 1\n",
    "    \n",
    "    time.sleep(1)\n",
    "    \n",
    "    # plotFit()\n",
    "    \n",
    "#------------------------------------------\n",
    "\n",
    "print(\"m1Fit: \", m1Fit, \"b1Fit: \", b1Fit, \"m2Fit: \", m2Fit, \"b2Fit: \", b2Fit)\n",
    "print(\"final loss: \", loss(m1Fit, b1Fit, m2Fit, b2Fit))\n",
    "\n",
    "parabolaFit(m1Fit, b1Fit, m2Fit, b2Fit)"
   ]
  },
  {
   "cell_type": "code",
   "execution_count": null,
   "id": "1cd04075-6c77-4242-b018-609c0264488b",
   "metadata": {},
   "outputs": [],
   "source": []
  }
 ],
 "metadata": {
  "kernelspec": {
   "display_name": "Python 3 (ipykernel)",
   "language": "python",
   "name": "python3"
  },
  "language_info": {
   "codemirror_mode": {
    "name": "ipython",
    "version": 3
   },
   "file_extension": ".py",
   "mimetype": "text/x-python",
   "name": "python",
   "nbconvert_exporter": "python",
   "pygments_lexer": "ipython3",
   "version": "3.9.12"
  }
 },
 "nbformat": 4,
 "nbformat_minor": 5
}

{
 "cells": [
  {
   "cell_type": "markdown",
   "id": "b45dd50e-d75c-41d2-a549-110cc111e32b",
   "metadata": {},
   "source": [
    "<a href=\"https://it-omscholing.nl/locaties/hogeschool-rotterdam/\">\n",
    "<div>\n",
    "<a><img src='../pics/banner.PNG'/></a>\n",
    "</div>\n",
    "<div>\n",
    "<a href=''><img src='../pics/miw.PNG'/></a>\n",
    "<em>Author: Jeroen Boogaard</em>\n",
    "</div>\n",
    "</a>"
   ]
  },
  {
   "cell_type": "markdown",
   "id": "63f0720b-4a62-479d-873b-c5f6cad9a89d",
   "metadata": {},
   "source": [
    "<h1>Numpy</h1>"
   ]
  },
  {
   "cell_type": "markdown",
   "id": "3619d610-30b3-41a2-b5f0-ae37b9d5b105",
   "metadata": {},
   "source": [
    "**Imports**"
   ]
  },
  {
   "cell_type": "code",
   "execution_count": 93,
   "id": "42257a05-c794-4121-a9cf-fe53fa3a1dc1",
   "metadata": {},
   "outputs": [],
   "source": [
    "import numpy as np\n",
    "import pandas as pd\n",
    "from PIL import Image\n",
    "from scipy import ndimage"
   ]
  },
  {
   "cell_type": "markdown",
   "id": "8e48110a-ff83-4fba-aab9-7cb3678fe668",
   "metadata": {},
   "source": [
    "<h2>Opdracht 1</h2>"
   ]
  },
  {
   "cell_type": "markdown",
   "id": "47ac5b87-14b1-437e-91cb-93dadadef8f9",
   "metadata": {},
   "source": [
    "<h3>Gegeven</h3>"
   ]
  },
  {
   "cell_type": "markdown",
   "id": "8605ba6e-3f4e-4fe1-b76f-c784f2f44735",
   "metadata": {},
   "source": [
    "Planeet | Grootte to.v. de omvang van de Aarde\n",
    "---|---\n",
    "Jupiter | 1120%\n",
    "Saturnus | 945%\n",
    "Uranus | 400%\n",
    "Neptunus | 388%\n",
    "Aarde| 100%\n",
    "Venus | 95%\n",
    "Mars | 53%"
   ]
  },
  {
   "cell_type": "code",
   "execution_count": 94,
   "id": "2b471d98-c5b0-4db0-a1c6-155094548c23",
   "metadata": {},
   "outputs": [],
   "source": [
    "filename = \"csv/planets.csv\""
   ]
  },
  {
   "cell_type": "code",
   "execution_count": 95,
   "id": "e5fa129a-d9a8-4899-ba69-87537e1819f5",
   "metadata": {},
   "outputs": [
    {
     "name": "stdout",
     "output_type": "stream",
     "text": [
      "earth.jpg         mars.jpg          neptune.jpg       uranus.jpg\n",
      "earth_scaled.jpg  mars.nasa.jpg     pluto.jpg         venus.jpg\n",
      "jupiter.jpg       mercury.jpg       saturn.jpg        venus.png\n"
     ]
    }
   ],
   "source": [
    "ls pics"
   ]
  },
  {
   "cell_type": "markdown",
   "id": "ad98fa30-0e0a-4ec4-9930-b63db74c11f2",
   "metadata": {},
   "source": [
    "<h3>Gevraagd</h3>\n",
    "<p>\n",
    "Schaal voor elke (erkende) planeet uit ons zonnestelsel de bijbehorende image t.o.v. van de aarde. Het geschaalde plaatje moet groter zijn dan het plaatje van de aarde als de bijbehorende planeet groter is dan de aarde. Is de planeet kleiner dan de aarde dan moet het nieuwe plaatje kleiner zijn. Gebruik voor de schaalfactor het percentage. \n",
    "Tip: Indien nodig kun je de images normaliseren door eerst het plaatje van de aarde te schalen\n",
    "</p>"
   ]
  },
  {
   "cell_type": "markdown",
   "id": "c0c854fb-54db-4baa-b149-2e7d0c1b6391",
   "metadata": {},
   "source": [
    "<h3>Oplossing</h3>\n",
    "<ol>\n",
    "    <li>\n",
    "        <strong>Open het bestand csv/planets.csv en voeg daar de kolom <i>image</i></strong>\n",
    "    </li>\n",
    "    <li>\n",
    "        <strong>Importeer het csv-bestand en sla de data op in een dictionary</strong>\n",
    "    </li>\n",
    "    <li>\n",
    "        <strong>Open een image uit van een item uit de dictionary</strong>\n",
    "    </li>\n",
    "    <li>\n",
    "        <strong>Schaal de image m.b.v. een <i>numpy array</i></strong>\n",
    "    </li>\n",
    "    <li>\n",
    "        <strong>Sla de geschaalde image op</strong>\n",
    "    </li>\n",
    "    <li>\n",
    "        <strong>Schrijf een functie voor het schalen van een image</strong>\n",
    "    </li>    \n",
    "    <li>\n",
    "        <strong>Maak een loop waarbij voor elke planeet een geschaalde image wordt gemaakt en opgelagen</strong>\n",
    "    </li>    \n",
    "</ol>    "
   ]
  },
  {
   "cell_type": "markdown",
   "id": "b2a7b7fb-56b3-43f7-a6b5-34adc057c3d1",
   "metadata": {},
   "source": [
    "**Stap 2: Importeer het csv-bestand en sla de data op in een dictionary**"
   ]
  },
  {
   "cell_type": "code",
   "execution_count": 109,
   "id": "cbcb0e9b-46f8-490d-9a85-eb29037a93cb",
   "metadata": {},
   "outputs": [
    {
     "name": "stdout",
     "output_type": "stream",
     "text": [
      "<class 'pandas.core.frame.DataFrame'>\n"
     ]
    }
   ],
   "source": [
    "planetDataFrame = pd.read_csv(filename, header = 0, sep = ',')\n",
    "Scale = ['.38', '.95', '100', '.53', '11.20', '9.45', '4.00', '3.88', '.17']\n",
    "planetDataFrame['Scale'] = Scale\n",
    "\n",
    "planetDict = planetDataFrame.to_dict\n",
    "\n",
    "print(type(planetDataFrame))\n",
    "\n",
    "#print(planetDataFrame.columns)\n"
   ]
  },
  {
   "cell_type": "code",
   "execution_count": 115,
   "id": "7ff00b46-b554-4f88-9960-53741792c2bb",
   "metadata": {},
   "outputs": [
    {
     "data": {
      "text/plain": [
       "'3.88'"
      ]
     },
     "execution_count": 115,
     "metadata": {},
     "output_type": "execute_result"
    }
   ],
   "source": []
  },
  {
   "cell_type": "markdown",
   "id": "9d9d8c73-c8fa-41b0-848c-04741aa06bbf",
   "metadata": {},
   "source": [
    "**Stap 3: Open een image uit van een item uit de dictionary**"
   ]
  },
  {
   "cell_type": "code",
   "execution_count": null,
   "id": "83d43bb9-694e-4390-a8a3-30f6535f6591",
   "metadata": {},
   "outputs": [],
   "source": [
    "img0 = Image.open('pics/mercury.jpg')\n",
    "# img1 = Image.open('pics/venus.jpg') # beter naar pad refereren?\n",
    "# img2 = Image.open('pics/earth.jpg')\n",
    "# img3 = Image.open('pics/mars.jpg')\n",
    "# img4 = Image.open('pics/jupiter.jpg')\n",
    "# img5 = Image.open('pics/saturn.jpg')\n",
    "# img6 = Image.open('pics/uranus.jpg')\n",
    "# img7 = Image.open('pics/neptune.jpg')\n",
    "# img8 = Image.open('pics/pluto.jpg')\n",
    "                  \n",
    "# planetDataFrame.items()\n",
    "# Image = [(img0), (img1),(img2), (img3),(img4), (img5),(img6), (img7), (img8)]\n",
    "# planetDataFrame['Image'] = Image\n",
    "\n",
    "# print (planetDataFrame)\n",
    "\n",
    "print(img0.format)\n",
    "print(img0.size)\n",
    "\n",
    "\n"
   ]
  },
  {
   "cell_type": "markdown",
   "id": "645b438b-324d-427c-9efd-d621e37445f7",
   "metadata": {
    "tags": []
   },
   "source": [
    "**Stap 4: Schaal de image m.b.v. een numpy array**"
   ]
  },
  {
   "cell_type": "code",
   "execution_count": null,
   "id": "8894e6bd-6237-4cf6-8d95-222d6a3be56e",
   "metadata": {},
   "outputs": [],
   "source": [
    "# if __name__ == '__main__':\n",
    "#     img0\n",
    "#     width, height=img0.size\n",
    "#     print(width, height)\n",
    "#     img1\n",
    "#     width, height=img1.size\n",
    "#     print(width, height)\n",
    "#     img2\n",
    "#     width, height=img1.size\n",
    "#     print(width, height)\n",
    "#     img3\n",
    "#     width, height=img1.size\n",
    "#     print(width, height)\n",
    "#     img4\n",
    "#     width, height=img1.size\n",
    "#     print(width, height)\n",
    "#     img5\n",
    "#     width, height=img1.size\n",
    "#     print(width, height)\n",
    "#     img6\n",
    "#     width, height=img1.size\n",
    "#     print(width, height)\n",
    "#     img7\n",
    "#     width, height=img1.size\n",
    "#     print(width, height)\n",
    "#     img8\n",
    "#     width, height=img1.size\n",
    "#     print(width, height)\n",
    "\n",
    "print(type(img0))\n",
    "\n",
    "\n",
    "array0 = np.array(img0)\n",
    "array1 = np.array(img1)\n",
    "array2 = np.array(img2)\n",
    "array3 = np.array(img3)\n",
    "array4 = np.array(img4)\n",
    "array5 = np.array(img5)\n",
    "array6 = np.array(img6)\n",
    "array7 = np.array(img7)\n",
    "array8 = np.array(img8)\n",
    "print (type(array8))\n",
    "\n",
    "\n",
    "# planetDataFrame.iloc[0][10]\n",
    "# planetDataFrame.iloc[1][10]\n",
    "# planetDataFrame.iloc[2][10]\n",
    "# planetDataFrame.iloc[3][10]\n",
    "# planetDataFrame.iloc[4][10]\n",
    "# planetDataFrame.iloc[5][10]\n",
    "# planetDataFrame.iloc[6][10]\n",
    "# planetDataFrame.iloc[7][10]\n",
    "#planetDataFrame.iloc[8][10]\n"
   ]
  },
  {
   "cell_type": "code",
   "execution_count": null,
   "id": "18cc1603-ea5f-470e-a891-a15eefea759f",
   "metadata": {},
   "outputs": [],
   "source": [
    "array0 = np.array(img0)\n",
    "scaleFactor = 1\n",
    "scaleArray= ndimage.zoom(array, (scaleFactor, scaleFactor, 1))\n",
    "imgScaled = Image.fromarray(scaleArray)\n",
    "imgScaled.show()"
   ]
  },
  {
   "cell_type": "code",
   "execution_count": null,
   "id": "18cf8e90-d7bb-4be2-8859-4f11cdff7dee",
   "metadata": {},
   "outputs": [],
   "source": []
  },
  {
   "cell_type": "markdown",
   "id": "8611929d-d109-4f62-881f-b8a64db1e648",
   "metadata": {},
   "source": [
    "**Stap 5: Sla de geschaalde image op**"
   ]
  },
  {
   "cell_type": "code",
   "execution_count": null,
   "id": "2e34fa25-3cc3-4e5f-b29a-7793e505db61",
   "metadata": {},
   "outputs": [],
   "source": [
    "imgScaled.save(img.filename.replace(\".jpg\",\"_scaled.jpg\"))"
   ]
  },
  {
   "cell_type": "markdown",
   "id": "f142ebe1-f561-447b-8e2e-e8855b20cd50",
   "metadata": {},
   "source": [
    "**Stap 6: Schrijf een functie voor het schalen van een image**"
   ]
  },
  {
   "cell_type": "code",
   "execution_count": null,
   "id": "f121c4f4-85c0-4e13-9e16-17eb2eebb1a3",
   "metadata": {},
   "outputs": [],
   "source": [
    "planetDataFrame = pd.read_csv(filename, header = 0, sep = ',')\n",
    "Scale = ['.38', '.95', '100', '.53', '11.20', '9.45', '4.00', '3.88', '.17']\n",
    "planetDataFrame['Scale'] = Scale\n",
    "\n",
    "# opslag\n",
    "openImages = []\n",
    "scaledImages =[]\n",
    "\n",
    "for i "
   ]
  },
  {
   "cell_type": "markdown",
   "id": "5a550077-c83c-4af2-96fa-7a32158d5198",
   "metadata": {},
   "source": [
    "**Stap 7: Maak een loop waarbij voor elke planeet een geschaalde image wordt gemaakt en opgelagen**"
   ]
  },
  {
   "cell_type": "markdown",
   "id": "a668a8e8-4d7e-4c6d-adbc-61935887fabe",
   "metadata": {},
   "source": [
    "<h4>Bonus: Voeg Mercurius aan de tabel toe en schaal ook daarvan het plaatje</h4>"
   ]
  },
  {
   "cell_type": "markdown",
   "id": "11d181d1-c906-4ad1-9d8f-69836a4e8cc7",
   "metadata": {},
   "source": [
    "</ol>"
   ]
  },
  {
   "cell_type": "markdown",
   "id": "03ac855f-3986-4b4a-823c-10c6d8b33024",
   "metadata": {},
   "source": [
    "</ol>"
   ]
  },
  {
   "cell_type": "markdown",
   "id": "0be19a7e-a00f-4773-a19a-50b07618f856",
   "metadata": {},
   "source": [
    "\n"
   ]
  }
 ],
 "metadata": {
  "kernelspec": {
   "display_name": "Python 3 (ipykernel)",
   "language": "python",
   "name": "python3"
  },
  "language_info": {
   "codemirror_mode": {
    "name": "ipython",
    "version": 3
   },
   "file_extension": ".py",
   "mimetype": "text/x-python",
   "name": "python",
   "nbconvert_exporter": "python",
   "pygments_lexer": "ipython3",
   "version": "3.9.12"
  }
 },
 "nbformat": 4,
 "nbformat_minor": 5
}

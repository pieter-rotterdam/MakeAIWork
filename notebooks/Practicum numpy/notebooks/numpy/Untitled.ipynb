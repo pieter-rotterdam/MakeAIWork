{
 "cells": [
  {
   "cell_type": "code",
   "execution_count": 14,
   "id": "2ca84d54-0298-496d-9702-c14ee0da3267",
   "metadata": {},
   "outputs": [],
   "source": [
    "import numpy as np\n",
    "import pandas as pd\n",
    "from PIL import Image\n",
    "from scipy import ndimage"
   ]
  },
  {
   "cell_type": "code",
   "execution_count": 19,
   "id": "d7fb9173-b6fc-457b-a827-4659b3bc7189",
   "metadata": {},
   "outputs": [
    {
     "name": "stdout",
     "output_type": "stream",
     "text": [
      "   col1  col2  col3  col4  col5  loc  value\n",
      "0     0    23     0     1     4    1     23\n",
      "1     1     4     5     2    15    4     15\n",
      "2     1     1     2     6     0    2      2\n",
      "3     0     1     1     4     2    3      4\n",
      "4     3     3     1     0     5    2      1\n"
     ]
    }
   ],
   "source": [
    "df1 = pd.DataFrame({'col1': [0, 1, 1, 0, 3],\n",
    "               'col2': [23, 4, 1, 1, 3], \n",
    "               'col3': [0, 5, 2, 1, 1],\n",
    "               'col4': [1, 2, 6, 4, 0],\n",
    "               'col5': [4, 15, 0, 2, 5],\n",
    "               'loc': [1, 4, 2, 3, 2]}) \n",
    "\n",
    "\n",
    "df1['value'] = df1.apply(lambda x: x.iloc[x['loc']], axis = 1)\n",
    "\n",
    "print (df1)"
   ]
  },
  {
   "cell_type": "code",
   "execution_count": null,
   "id": "bb3f549d-65d1-4bb6-8d85-4eabc7bd04f9",
   "metadata": {},
   "outputs": [],
   "source": []
  },
  {
   "cell_type": "code",
   "execution_count": null,
   "id": "7490d3c2-6a4f-45f7-89ed-f4edfa400fc0",
   "metadata": {},
   "outputs": [],
   "source": []
  }
 ],
 "metadata": {
  "kernelspec": {
   "display_name": "Python 3 (ipykernel)",
   "language": "python",
   "name": "python3"
  },
  "language_info": {
   "codemirror_mode": {
    "name": "ipython",
    "version": 3
   },
   "file_extension": ".py",
   "mimetype": "text/x-python",
   "name": "python",
   "nbconvert_exporter": "python",
   "pygments_lexer": "ipython3",
   "version": "3.9.12"
  }
 },
 "nbformat": 4,
 "nbformat_minor": 5
}

{
 "cells": [
  {
   "cell_type": "markdown",
   "id": "b45dd50e-d75c-41d2-a549-110cc111e32b",
   "metadata": {},
   "source": [
    "<a href=\"https://it-omscholing.nl/locaties/hogeschool-rotterdam/\">\n",
    "<div>\n",
    "<a><img src='../pics/banner.PNG'/></a>\n",
    "</div>\n",
    "<div>\n",
    "<a href=''><img src='../pics/miw.PNG'/></a>\n",
    "<em>Author: Jeroen Boogaard</em>\n",
    "</div>\n",
    "</a>"
   ]
  },
  {
   "cell_type": "markdown",
   "id": "63f0720b-4a62-479d-873b-c5f6cad9a89d",
   "metadata": {},
   "source": [
    "<h1>Numpy</h1>"
   ]
  },
  {
   "cell_type": "markdown",
   "id": "3619d610-30b3-41a2-b5f0-ae37b9d5b105",
   "metadata": {},
   "source": [
    "**Imports**"
   ]
  },
  {
   "cell_type": "code",
   "execution_count": 43,
   "id": "42257a05-c794-4121-a9cf-fe53fa3a1dc1",
   "metadata": {},
   "outputs": [],
   "source": [
    "import numpy as np\n",
    "import pandas as pd\n",
    "from PIL import Image\n",
    "from scipy import ndimage"
   ]
  },
  {
   "cell_type": "markdown",
   "id": "8e48110a-ff83-4fba-aab9-7cb3678fe668",
   "metadata": {},
   "source": [
    "<h2>Opdracht 1</h2>"
   ]
  },
  {
   "cell_type": "markdown",
   "id": "47ac5b87-14b1-437e-91cb-93dadadef8f9",
   "metadata": {},
   "source": [
    "<h3>Gegeven</h3>"
   ]
  },
  {
   "cell_type": "markdown",
   "id": "8605ba6e-3f4e-4fe1-b76f-c784f2f44735",
   "metadata": {},
   "source": [
    "Planeet | Grootte to.v. de omvang van de Aarde\n",
    "---|---\n",
    "Jupiter | 1120%\n",
    "Saturnus | 945%\n",
    "Uranus | 400%\n",
    "Neptunus | 388%\n",
    "Aarde| 100%\n",
    "Venus | 95%\n",
    "Mars | 53%"
   ]
  },
  {
   "cell_type": "code",
   "execution_count": 44,
   "id": "2b471d98-c5b0-4db0-a1c6-155094548c23",
   "metadata": {},
   "outputs": [],
   "source": [
    "filename = \"csv/planets.csv\""
   ]
  },
  {
   "cell_type": "code",
   "execution_count": 45,
   "id": "e5fa129a-d9a8-4899-ba69-87537e1819f5",
   "metadata": {},
   "outputs": [
    {
     "name": "stdout",
     "output_type": "stream",
     "text": [
      "earth.jpg         mars.jpg          neptune.jpg       uranus.jpg\n",
      "earth_scaled.jpg  mars.nasa.jpg     pluto.jpg         venus.jpg\n",
      "jupiter.jpg       mercury.jpg       saturn.jpg        venus.png\n"
     ]
    }
   ],
   "source": [
    "ls pics"
   ]
  },
  {
   "cell_type": "markdown",
   "id": "ad98fa30-0e0a-4ec4-9930-b63db74c11f2",
   "metadata": {},
   "source": [
    "<h3>Gevraagd</h3>\n",
    "<p>\n",
    "Schaal voor elke (erkende) planeet uit ons zonnestelsel de bijbehorende image t.o.v. van de aarde. Het geschaalde plaatje moet groter zijn dan het plaatje van de aarde als de bijbehorende planeet groter is dan de aarde. Is de planeet kleiner dan de aarde dan moet het nieuwe plaatje kleiner zijn. Gebruik voor de schaalfactor het percentage. \n",
    "Tip: Indien nodig kun je de images normaliseren door eerst het plaatje van de aarde te schalen\n",
    "</p>"
   ]
  },
  {
   "cell_type": "markdown",
   "id": "c0c854fb-54db-4baa-b149-2e7d0c1b6391",
   "metadata": {},
   "source": [
    "<h3>Oplossing</h3>\n",
    "<ol>\n",
    "    <li>\n",
    "        <strong>Open het bestand csv/planets.csv en voeg daar de kolom <i>image</i></strong>\n",
    "    </li>\n",
    "    <li>\n",
    "        <strong>Importeer het csv-bestand en sla de data op in een dictionary</strong>\n",
    "    </li>\n",
    "    <li>\n",
    "        <strong>Open een image uit van een item uit de dictionary</strong>\n",
    "    </li>\n",
    "    <li>\n",
    "        <strong>Schaal de image m.b.v. een <i>numpy array</i></strong>\n",
    "    </li>\n",
    "    <li>\n",
    "        <strong>Sla de geschaalde image op</strong>\n",
    "    </li>\n",
    "    <li>\n",
    "        <strong>Schrijf een functie voor het schalen van een image</strong>\n",
    "    </li>    \n",
    "    <li>\n",
    "        <strong>Maak een loop waarbij voor elke planeet een geschaalde image wordt gemaakt en opgelagen</strong>\n",
    "    </li>    \n",
    "</ol>    "
   ]
  },
  {
   "cell_type": "markdown",
   "id": "b2a7b7fb-56b3-43f7-a6b5-34adc057c3d1",
   "metadata": {},
   "source": [
    "**Stap 2: Importeer het csv-bestand en sla de data op in een dictionary**"
   ]
  },
  {
   "cell_type": "code",
   "execution_count": 46,
   "id": "cbcb0e9b-46f8-490d-9a85-eb29037a93cb",
   "metadata": {},
   "outputs": [
    {
     "name": "stdout",
     "output_type": "stream",
     "text": [
      "      Name   Diameter          Mass   Inclination   Eccentricity  \\\n",
      "0  Mercury     4879.4   3.302×10^23      7.004000       0.205636   \n",
      "1    Venus    12103.6   4.869×10^24      3.394710       0.006777   \n",
      "2    Earth    12756.3   5.974×10^24      0.000050       0.016711   \n",
      "3     Mars     6794.4   6.419×10^23      1.850610       0.093394   \n",
      "4  Jupiter   142984.0   1.899×10^27      1.305300       0.048386   \n",
      "5   Saturn   120536.0   5.688×10^26      2.484460       0.053862   \n",
      "6   Uranus    51118.0   8.683×10^25      0.774000       0.047257   \n",
      "7  Neptune    49572.0   1.024×10^26      1.769170       0.008590   \n",
      "8    Pluto     2370.0     1.3×10^22     17.089001       0.250249   \n",
      "\n",
      "    Semi_majorAxis   SurfaceGravity   OrbitalPeriod   SiderealRotation  \\\n",
      "0         0.387099             3.70        0.241000          58.650000   \n",
      "1         0.723336             8.87        0.615000         243.018700   \n",
      "2         1.000003             9.78        1.000000           0.997271   \n",
      "3         1.523710             3.71        1.881000           1.025950   \n",
      "4         5.202887            24.79       11.860000           0.413500   \n",
      "5         9.536676             8.96       29.460000           0.426400   \n",
      "6        19.189165             7.77       84.010000           0.718100   \n",
      "7        30.069923            11.00      164.790000           0.671200   \n",
      "8        39.445070             0.62      247.740662           6.387230   \n",
      "\n",
      "    Satellites  Scale  \n",
      "0            0    .38  \n",
      "1            0    .95  \n",
      "2            1      1  \n",
      "3            2    .53  \n",
      "4           63  11.20  \n",
      "5           64   9.45  \n",
      "6           27   4.00  \n",
      "7           14   3.88  \n",
      "8            5    .17  \n"
     ]
    }
   ],
   "source": [
    "planetDataFrame = pd.read_csv(filename, header = 0, sep = ',')\n",
    "Scale = ['.38', '.95', '1', '.53', '11.20', '9.45', '4.00', '3.88', '.17']\n",
    "planetDataFrame['Scale'] = Scale\n",
    "\n",
    "planetDict = planetDataFrame.to_dict\n",
    "\n",
    "print(planetDataFrame)\n",
    "\n",
    "#print(planetDict)\n",
    "#print(planetDataFrame.columns)\n"
   ]
  },
  {
   "cell_type": "code",
   "execution_count": null,
   "id": "7ff00b46-b554-4f88-9960-53741792c2bb",
   "metadata": {},
   "outputs": [],
   "source": []
  },
  {
   "cell_type": "markdown",
   "id": "9d9d8c73-c8fa-41b0-848c-04741aa06bbf",
   "metadata": {},
   "source": [
    "**Stap 3: Open een image uit van een item uit de dictionary**"
   ]
  },
  {
   "cell_type": "code",
   "execution_count": 47,
   "id": "83d43bb9-694e-4390-a8a3-30f6535f6591",
   "metadata": {},
   "outputs": [
    {
     "name": "stdout",
     "output_type": "stream",
     "text": [
      "      Name   Diameter          Mass   Inclination   Eccentricity  \\\n",
      "0  Mercury     4879.4   3.302×10^23      7.004000       0.205636   \n",
      "1    Venus    12103.6   4.869×10^24      3.394710       0.006777   \n",
      "2    Earth    12756.3   5.974×10^24      0.000050       0.016711   \n",
      "3     Mars     6794.4   6.419×10^23      1.850610       0.093394   \n",
      "4  Jupiter   142984.0   1.899×10^27      1.305300       0.048386   \n",
      "5   Saturn   120536.0   5.688×10^26      2.484460       0.053862   \n",
      "6   Uranus    51118.0   8.683×10^25      0.774000       0.047257   \n",
      "7  Neptune    49572.0   1.024×10^26      1.769170       0.008590   \n",
      "8    Pluto     2370.0     1.3×10^22     17.089001       0.250249   \n",
      "\n",
      "    Semi_majorAxis   SurfaceGravity   OrbitalPeriod   SiderealRotation  \\\n",
      "0         0.387099             3.70        0.241000          58.650000   \n",
      "1         0.723336             8.87        0.615000         243.018700   \n",
      "2         1.000003             9.78        1.000000           0.997271   \n",
      "3         1.523710             3.71        1.881000           1.025950   \n",
      "4         5.202887            24.79       11.860000           0.413500   \n",
      "5         9.536676             8.96       29.460000           0.426400   \n",
      "6        19.189165             7.77       84.010000           0.718100   \n",
      "7        30.069923            11.00      164.790000           0.671200   \n",
      "8        39.445070             0.62      247.740662           6.387230   \n",
      "\n",
      "    Satellites  Scale                                          imageList  \n",
      "0            0    .38  <module 'PIL.Image' from '/opt/miniconda3/lib/...  \n",
      "1            0    .95  <module 'PIL.Image' from '/opt/miniconda3/lib/...  \n",
      "2            1      1  <module 'PIL.Image' from '/opt/miniconda3/lib/...  \n",
      "3            2    .53  <module 'PIL.Image' from '/opt/miniconda3/lib/...  \n",
      "4           63  11.20  <module 'PIL.Image' from '/opt/miniconda3/lib/...  \n",
      "5           64   9.45  <module 'PIL.Image' from '/opt/miniconda3/lib/...  \n",
      "6           27   4.00  <module 'PIL.Image' from '/opt/miniconda3/lib/...  \n",
      "7           14   3.88  <module 'PIL.Image' from '/opt/miniconda3/lib/...  \n",
      "8            5    .17  <module 'PIL.Image' from '/opt/miniconda3/lib/...  \n"
     ]
    }
   ],
   "source": [
    "# img0 = ('../pics/mercury.jpg')\n",
    "# img1 = ('..pics/venus.jpg') \n",
    "# img2 = ('..pics/earth.jpg')\n",
    "# img3 = ('..pics/mars.jpg')\n",
    "# img4 = ('..pics/jupiter.jpg')\n",
    "# img5 = ('..pics/saturn.jpg')\n",
    "# img6 = ('..pics/uranus.jpg')\n",
    "# img7 = ('..pics/neptune.jpg')\n",
    "# img8 = ('..pics/pluto.jpg')\n",
    "\n",
    "img0 = Image.open('pics/mercury.jpg')\n",
    "img1 = Image.open('pics/venus.jpg') # beter naar pad refereren?\n",
    "img2 = Image.open('pics/earth.jpg')\n",
    "img3 = Image.open('pics/mars.jpg')\n",
    "img4 = Image.open('pics/jupiter.jpg')\n",
    "img5 = Image.open('pics/saturn.jpg')\n",
    "img6 = Image.open('pics/uranus.jpg')\n",
    "img7 = Image.open('pics/neptune.jpg')\n",
    "img8 = Image.open('pics/pluto.jpg')\n",
    "                  \n",
    "planetDataFrame.items()\n",
    "imageList = [(img0), (img1),(img2), (img3),(img4), (img5),(img6), (img7), (img8)]\n",
    "planetDataFrame['imageList'] = Image\n",
    "\n",
    "print (planetDataFrame)\n",
    "\n",
    "# print(img0.format)\n",
    "# print(img0.size)\n"
   ]
  },
  {
   "cell_type": "markdown",
   "id": "645b438b-324d-427c-9efd-d621e37445f7",
   "metadata": {
    "tags": []
   },
   "source": [
    "**Stap 4: Schaal de image m.b.v. een numpy array**"
   ]
  },
  {
   "cell_type": "code",
   "execution_count": 48,
   "id": "8894e6bd-6237-4cf6-8d95-222d6a3be56e",
   "metadata": {},
   "outputs": [
    {
     "name": "stdout",
     "output_type": "stream",
     "text": [
      "3\n"
     ]
    }
   ],
   "source": [
    "# if __name__ == '__main__':\n",
    "#     img0\n",
    "#     width, height=img0.size\n",
    "#     print(width, height)\n",
    "#     img1\n",
    "#     width, height=img1.size\n",
    "#     print(width, height)\n",
    "#     img2\n",
    "#     width, height=img1.size\n",
    "#     print(width, height)\n",
    "#     img3\n",
    "#     width, height=img1.size\n",
    "#     print(width, height)\n",
    "#     img4\n",
    "#     width, height=img1.size\n",
    "#     print(width, height)\n",
    "#     img5\n",
    "#     width, height=img1.size\n",
    "#     print(width, height)\n",
    "#     img6\n",
    "#     width, height=img1.size\n",
    "#     print(width, height)\n",
    "#     img7\n",
    "#     width, height=img1.size\n",
    "#     print(width, height)\n",
    "#     img8\n",
    "#     width, height=img1.size\n",
    "#     print(width, height)\n",
    "\n",
    "#print(type(img0))\n",
    "\n",
    "\n",
    "array0 = np.array(img0) # numpy.ndarray\n",
    "array1 = np.array(img1)\n",
    "array2 = np.array(img2)\n",
    "array3 = np.array(img3)\n",
    "array4 = np.array(img4)\n",
    "array5 = np.array(img5)\n",
    "array6 = np.array(img6)\n",
    "array7 = np.array(img7)\n",
    "array8 = np.array(img8)\n",
    "# print ((array8))\n",
    "\n",
    "ImgArr = [(array0), (array1),(array2), (array3),(array4), (array5),(array6), (array7), (array8)]\n",
    "planetDataFrame['Array'] = ImgArr\n",
    "\n",
    "print (array0.ndim)\n",
    "\n",
    "# print (planetDataFrame)\n",
    "\n",
    "\n",
    "# Resize0 = planetDataFrame.iloc[0][10] #string\n",
    "# Resize1 = planetDataFrame.iloc[1][10]\n",
    "# Resize2 = planetDataFrame.iloc[2][10]\n",
    "# Resize3 = planetDataFrame.iloc[3][10]\n",
    "# Resize4 = planetDataFrame.iloc[4][10]\n",
    "# Resize5 = planetDataFrame.iloc[5][10]\n",
    "# Resize6 = planetDataFrame.iloc[6][10]\n",
    "# Resize7 = planetDataFrame.iloc[7][10]\n",
    "# Resize8 = planetDataFrame.iloc[8][10]\n",
    "\n",
    "# print (planetDataFrame.loc[:,'Scale'])\n",
    "\n",
    "# print (type(array0))\n",
    "\n",
    "#planetDataFrame['value'] = planetDataFrame.values[np.arange(len(planetDataFrame)), planetDataFrame['iloc']]\n",
    "#print (planetDataFrame)"
   ]
  },
  {
   "cell_type": "code",
   "execution_count": 49,
   "id": "7e4fc0b6-03ec-468c-9ccb-94a1eb44bf5a",
   "metadata": {},
   "outputs": [],
   "source": [
    "\n",
    "# naam = planetDataFrame.loc[:,'Name']\n",
    "# images = planetDataFrame.loc[:,'Image']\n",
    "\n",
    "# for names in Image:\n",
    "#     # img = Image.open(f'pics/{x}.jpg')\n",
    "#     print(names)\n",
    "\n",
    "# x = planetDataFrame.loc[:,'Scale']\n",
    "# d = []\n",
    "# for f in x:\n",
    "#     d.append(f)\n",
    "\n",
    "# array = np.array(img)\n",
    "# scaleFactor = 1\n",
    "# scaleArray= ndimage.zoom(array, (scaleFactor, scaleFactor, 1))\n",
    "# imgScaled = Image.fromarray(scaleArray)\n",
    "# imgScaled.show()"
   ]
  },
  {
   "cell_type": "code",
   "execution_count": 50,
   "id": "18cc1603-ea5f-470e-a891-a15eefea759f",
   "metadata": {},
   "outputs": [],
   "source": [
    "# array = np.array\n",
    "# scaleFactor = 1\n",
    "# scaleArray= ndimage.zoom(array, (scaleFactor, scaleFactor, 1))\n",
    "# imgScaled = Image.fromarray(scaleArray)\n",
    "# imgScaled.show()"
   ]
  },
  {
   "cell_type": "code",
   "execution_count": null,
   "id": "18cf8e90-d7bb-4be2-8859-4f11cdff7dee",
   "metadata": {},
   "outputs": [],
   "source": []
  },
  {
   "cell_type": "markdown",
   "id": "8611929d-d109-4f62-881f-b8a64db1e648",
   "metadata": {},
   "source": [
    "**Stap 5: Sla de geschaalde image op**"
   ]
  },
  {
   "cell_type": "code",
   "execution_count": 51,
   "id": "2e34fa25-3cc3-4e5f-b29a-7793e505db61",
   "metadata": {},
   "outputs": [],
   "source": [
    "# imgScaled.save(img.filename.replace(\".jpg\",\"_scaled.jpg\"))"
   ]
  },
  {
   "cell_type": "markdown",
   "id": "f142ebe1-f561-447b-8e2e-e8855b20cd50",
   "metadata": {},
   "source": [
    "**Stap 6: Schrijf een functie voor het schalen van een image**"
   ]
  },
  {
   "cell_type": "code",
   "execution_count": 57,
   "id": "f121c4f4-85c0-4e13-9e16-17eb2eebb1a3",
   "metadata": {},
   "outputs": [
    {
     "ename": "TypeError",
     "evalue": "loop of ufunc does not support argument 0 of type str which has no callable rint method",
     "output_type": "error",
     "traceback": [
      "\u001b[0;31m---------------------------------------------------------------------------\u001b[0m",
      "\u001b[0;31mAttributeError\u001b[0m                            Traceback (most recent call last)",
      "\u001b[0;31mAttributeError\u001b[0m: 'str' object has no attribute 'rint'",
      "\nThe above exception was the direct cause of the following exception:\n",
      "\u001b[0;31mTypeError\u001b[0m                                 Traceback (most recent call last)",
      "Cell \u001b[0;32mIn [59], line 21\u001b[0m\n\u001b[1;32m     13\u001b[0m scaleFactor\u001b[38;5;241m=\u001b[39m (planetDataFrame\u001b[38;5;241m.\u001b[39miloc[:,\u001b[38;5;241m10\u001b[39m])\n\u001b[1;32m     15\u001b[0m \u001b[38;5;66;03m#np.array (a) #hier moet ook een loop in komen dat hij start bij array 0 en eindigt bij 8\u001b[39;00m\n\u001b[1;32m     16\u001b[0m \n\u001b[1;32m     17\u001b[0m \n\u001b[1;32m     18\u001b[0m \u001b[38;5;66;03m# print (type(array))\u001b[39;00m\n\u001b[1;32m     19\u001b[0m \u001b[38;5;66;03m# print (array.ndim)\u001b[39;00m\n\u001b[0;32m---> 21\u001b[0m scaleArray\u001b[38;5;241m=\u001b[39m \u001b[43mndimage\u001b[49m\u001b[38;5;241;43m.\u001b[39;49m\u001b[43mzoom\u001b[49m\u001b[43m(\u001b[49m\u001b[43marray\u001b[49m\u001b[43m,\u001b[49m\u001b[43m \u001b[49m\u001b[43m(\u001b[49m\u001b[43mscaleFactor\u001b[49m\u001b[43m,\u001b[49m\u001b[43m \u001b[49m\u001b[43mscaleFactor\u001b[49m\u001b[43m,\u001b[49m\u001b[43m \u001b[49m\u001b[38;5;241;43m1\u001b[39;49m\u001b[43m)\u001b[49m\u001b[43m)\u001b[49m\n\u001b[1;32m     22\u001b[0m \u001b[38;5;28mprint\u001b[39m (\u001b[38;5;28mtype\u001b[39m(scaleArray))\n\u001b[1;32m     24\u001b[0m imgScaled \u001b[38;5;241m=\u001b[39m Image\u001b[38;5;241m.\u001b[39mfromarray(scaleArray)\n",
      "File \u001b[0;32m/opt/miniconda3/lib/python3.9/site-packages/scipy/ndimage/_interpolation.py:769\u001b[0m, in \u001b[0;36mzoom\u001b[0;34m(input, zoom, output, order, mode, cval, prefilter, grid_mode)\u001b[0m\n\u001b[1;32m    766\u001b[0m     \u001b[38;5;28;01mraise\u001b[39;00m \u001b[38;5;167;01mRuntimeError\u001b[39;00m(\u001b[38;5;124m'\u001b[39m\u001b[38;5;124minput and output rank must be > 0\u001b[39m\u001b[38;5;124m'\u001b[39m)\n\u001b[1;32m    767\u001b[0m zoom \u001b[38;5;241m=\u001b[39m _ni_support\u001b[38;5;241m.\u001b[39m_normalize_sequence(zoom, \u001b[38;5;28minput\u001b[39m\u001b[38;5;241m.\u001b[39mndim)\n\u001b[1;32m    768\u001b[0m output_shape \u001b[38;5;241m=\u001b[39m \u001b[38;5;28mtuple\u001b[39m(\n\u001b[0;32m--> 769\u001b[0m         [\u001b[38;5;28mint\u001b[39m(\u001b[38;5;28mround\u001b[39m(ii \u001b[38;5;241m*\u001b[39m jj)) \u001b[38;5;28;01mfor\u001b[39;00m ii, jj \u001b[38;5;129;01min\u001b[39;00m \u001b[38;5;28mzip\u001b[39m(\u001b[38;5;28minput\u001b[39m\u001b[38;5;241m.\u001b[39mshape, zoom)])\n\u001b[1;32m    770\u001b[0m complex_output \u001b[38;5;241m=\u001b[39m numpy\u001b[38;5;241m.\u001b[39miscomplexobj(\u001b[38;5;28minput\u001b[39m)\n\u001b[1;32m    771\u001b[0m output \u001b[38;5;241m=\u001b[39m _ni_support\u001b[38;5;241m.\u001b[39m_get_output(output, \u001b[38;5;28minput\u001b[39m, shape\u001b[38;5;241m=\u001b[39moutput_shape,\n\u001b[1;32m    772\u001b[0m                                  complex_output\u001b[38;5;241m=\u001b[39mcomplex_output)\n",
      "File \u001b[0;32m/opt/miniconda3/lib/python3.9/site-packages/scipy/ndimage/_interpolation.py:769\u001b[0m, in \u001b[0;36m<listcomp>\u001b[0;34m(.0)\u001b[0m\n\u001b[1;32m    766\u001b[0m     \u001b[38;5;28;01mraise\u001b[39;00m \u001b[38;5;167;01mRuntimeError\u001b[39;00m(\u001b[38;5;124m'\u001b[39m\u001b[38;5;124minput and output rank must be > 0\u001b[39m\u001b[38;5;124m'\u001b[39m)\n\u001b[1;32m    767\u001b[0m zoom \u001b[38;5;241m=\u001b[39m _ni_support\u001b[38;5;241m.\u001b[39m_normalize_sequence(zoom, \u001b[38;5;28minput\u001b[39m\u001b[38;5;241m.\u001b[39mndim)\n\u001b[1;32m    768\u001b[0m output_shape \u001b[38;5;241m=\u001b[39m \u001b[38;5;28mtuple\u001b[39m(\n\u001b[0;32m--> 769\u001b[0m         [\u001b[38;5;28mint\u001b[39m(\u001b[38;5;28;43mround\u001b[39;49m\u001b[43m(\u001b[49m\u001b[43mii\u001b[49m\u001b[43m \u001b[49m\u001b[38;5;241;43m*\u001b[39;49m\u001b[43m \u001b[49m\u001b[43mjj\u001b[49m\u001b[43m)\u001b[49m) \u001b[38;5;28;01mfor\u001b[39;00m ii, jj \u001b[38;5;129;01min\u001b[39;00m \u001b[38;5;28mzip\u001b[39m(\u001b[38;5;28minput\u001b[39m\u001b[38;5;241m.\u001b[39mshape, zoom)])\n\u001b[1;32m    770\u001b[0m complex_output \u001b[38;5;241m=\u001b[39m numpy\u001b[38;5;241m.\u001b[39miscomplexobj(\u001b[38;5;28minput\u001b[39m)\n\u001b[1;32m    771\u001b[0m output \u001b[38;5;241m=\u001b[39m _ni_support\u001b[38;5;241m.\u001b[39m_get_output(output, \u001b[38;5;28minput\u001b[39m, shape\u001b[38;5;241m=\u001b[39moutput_shape,\n\u001b[1;32m    772\u001b[0m                                  complex_output\u001b[38;5;241m=\u001b[39mcomplex_output)\n",
      "File \u001b[0;32m/opt/miniconda3/lib/python3.9/site-packages/pandas/core/generic.py:1656\u001b[0m, in \u001b[0;36mNDFrame.__round__\u001b[0;34m(self, decimals)\u001b[0m\n\u001b[1;32m   1654\u001b[0m \u001b[38;5;129m@final\u001b[39m\n\u001b[1;32m   1655\u001b[0m \u001b[38;5;28;01mdef\u001b[39;00m \u001b[38;5;21m__round__\u001b[39m(\u001b[38;5;28mself\u001b[39m: NDFrameT, decimals: \u001b[38;5;28mint\u001b[39m \u001b[38;5;241m=\u001b[39m \u001b[38;5;241m0\u001b[39m) \u001b[38;5;241m-\u001b[39m\u001b[38;5;241m>\u001b[39m NDFrameT:\n\u001b[0;32m-> 1656\u001b[0m     \u001b[38;5;28;01mreturn\u001b[39;00m \u001b[38;5;28;43mself\u001b[39;49m\u001b[38;5;241;43m.\u001b[39;49m\u001b[43mround\u001b[49m\u001b[43m(\u001b[49m\u001b[43mdecimals\u001b[49m\u001b[43m)\u001b[49m\n",
      "File \u001b[0;32m/opt/miniconda3/lib/python3.9/site-packages/pandas/core/series.py:2442\u001b[0m, in \u001b[0;36mSeries.round\u001b[0;34m(self, decimals, *args, **kwargs)\u001b[0m\n\u001b[1;32m   2410\u001b[0m \u001b[38;5;124;03m\"\"\"\u001b[39;00m\n\u001b[1;32m   2411\u001b[0m \u001b[38;5;124;03mRound each value in a Series to the given number of decimals.\u001b[39;00m\n\u001b[1;32m   2412\u001b[0m \n\u001b[0;32m   (...)\u001b[0m\n\u001b[1;32m   2439\u001b[0m \u001b[38;5;124;03mdtype: float64\u001b[39;00m\n\u001b[1;32m   2440\u001b[0m \u001b[38;5;124;03m\"\"\"\u001b[39;00m\n\u001b[1;32m   2441\u001b[0m nv\u001b[38;5;241m.\u001b[39mvalidate_round(args, kwargs)\n\u001b[0;32m-> 2442\u001b[0m result \u001b[38;5;241m=\u001b[39m \u001b[38;5;28;43mself\u001b[39;49m\u001b[38;5;241;43m.\u001b[39;49m\u001b[43m_values\u001b[49m\u001b[38;5;241;43m.\u001b[39;49m\u001b[43mround\u001b[49m\u001b[43m(\u001b[49m\u001b[43mdecimals\u001b[49m\u001b[43m)\u001b[49m\n\u001b[1;32m   2443\u001b[0m result \u001b[38;5;241m=\u001b[39m \u001b[38;5;28mself\u001b[39m\u001b[38;5;241m.\u001b[39m_constructor(result, index\u001b[38;5;241m=\u001b[39m\u001b[38;5;28mself\u001b[39m\u001b[38;5;241m.\u001b[39mindex)\u001b[38;5;241m.\u001b[39m__finalize__(\n\u001b[1;32m   2444\u001b[0m     \u001b[38;5;28mself\u001b[39m, method\u001b[38;5;241m=\u001b[39m\u001b[38;5;124m\"\u001b[39m\u001b[38;5;124mround\u001b[39m\u001b[38;5;124m\"\u001b[39m\n\u001b[1;32m   2445\u001b[0m )\n\u001b[1;32m   2447\u001b[0m \u001b[38;5;28;01mreturn\u001b[39;00m result\n",
      "\u001b[0;31mTypeError\u001b[0m: loop of ufunc does not support argument 0 of type str which has no callable rint method"
     ]
    }
   ],
   "source": [
    "s = planetDataFrame.iloc[:,10] #scale\n",
    "i = planetDataFrame.iloc[:,11] #image\n",
    "a = planetDataFrame.iloc[:,12] #image array\n",
    "\n",
    "#print(s)\n",
    "#print(i)\n",
    "\n",
    "# for x in s:\n",
    "#     scaleFactor = (float)s \n",
    "    \n",
    "# array = array8\n",
    "\n",
    "scaleFactor= planetDataframe\n",
    "\n",
    "#np.array (a) #hier moet ook een loop in komen dat hij start bij array 0 en eindigt bij 8\n",
    "\n",
    "\n",
    "# print (type(array))\n",
    "# print (array.ndim)\n",
    "\n",
    "scaleArray= ndimage.zoom(array, (scaleFactor, scaleFactor, 1))\n",
    "print (type(scaleArray))\n",
    "\n",
    "imgScaled = Image.fromarray(scaleArray)\n",
    "imgScaled.show()"
   ]
  },
  {
   "cell_type": "markdown",
   "id": "5a550077-c83c-4af2-96fa-7a32158d5198",
   "metadata": {},
   "source": [
    "**Stap 7: Maak een loop waarbij voor elke planeet een geschaalde image wordt gemaakt en opgelagen**"
   ]
  },
  {
   "cell_type": "markdown",
   "id": "a668a8e8-4d7e-4c6d-adbc-61935887fabe",
   "metadata": {},
   "source": [
    "<h4>Bonus: Voeg Mercurius aan de tabel toe en schaal ook daarvan het plaatje</h4>"
   ]
  },
  {
   "cell_type": "markdown",
   "id": "11d181d1-c906-4ad1-9d8f-69836a4e8cc7",
   "metadata": {},
   "source": [
    "</ol>"
   ]
  },
  {
   "cell_type": "markdown",
   "id": "03ac855f-3986-4b4a-823c-10c6d8b33024",
   "metadata": {},
   "source": [
    "</ol>"
   ]
  },
  {
   "cell_type": "markdown",
   "id": "0be19a7e-a00f-4773-a19a-50b07618f856",
   "metadata": {},
   "source": [
    "\n"
   ]
  }
 ],
 "metadata": {
  "kernelspec": {
   "display_name": "Python 3 (ipykernel)",
   "language": "python",
   "name": "python3"
  },
  "language_info": {
   "codemirror_mode": {
    "name": "ipython",
    "version": 3
   },
   "file_extension": ".py",
   "mimetype": "text/x-python",
   "name": "python",
   "nbconvert_exporter": "python",
   "pygments_lexer": "ipython3",
   "version": "3.9.12"
  }
 },
 "nbformat": 4,
 "nbformat_minor": 5
}

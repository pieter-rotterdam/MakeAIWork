{
 "cells": [
  {
   "cell_type": "markdown",
   "id": "b45dd50e-d75c-41d2-a549-110cc111e32b",
   "metadata": {},
   "source": [
    "<a href=\"https://it-omscholing.nl/locaties/hogeschool-rotterdam/\">\n",
    "<div>\n",
    "<a><img src='../pics/banner.PNG'/></a>\n",
    "</div>\n",
    "<div>\n",
    "<a href=''><img src='../pics/miw.PNG'/></a>\n",
    "<em>Author: Jeroen Boogaard</em>\n",
    "</div>\n",
    "</a>"
   ]
  },
  {
   "cell_type": "markdown",
   "id": "63f0720b-4a62-479d-873b-c5f6cad9a89d",
   "metadata": {},
   "source": [
    "<h1>Numpy</h1>"
   ]
  },
  {
   "cell_type": "markdown",
   "id": "3619d610-30b3-41a2-b5f0-ae37b9d5b105",
   "metadata": {},
   "source": [
    "**Imports**"
   ]
  },
  {
   "cell_type": "code",
   "execution_count": 128,
   "id": "42257a05-c794-4121-a9cf-fe53fa3a1dc1",
   "metadata": {},
   "outputs": [],
   "source": [
    "import numpy as np\n",
    "import pandas as pd\n",
    "from PIL import Image\n",
    "from scipy import ndimage"
   ]
  },
  {
   "cell_type": "markdown",
   "id": "8e48110a-ff83-4fba-aab9-7cb3678fe668",
   "metadata": {},
   "source": [
    "<h2>Opdracht 1</h2>"
   ]
  },
  {
   "cell_type": "markdown",
   "id": "47ac5b87-14b1-437e-91cb-93dadadef8f9",
   "metadata": {},
   "source": [
    "<h3>Gegeven</h3>"
   ]
  },
  {
   "cell_type": "markdown",
   "id": "8605ba6e-3f4e-4fe1-b76f-c784f2f44735",
   "metadata": {},
   "source": [
    "Planeet | Grootte to.v. de omvang van de Aarde\n",
    "---|---\n",
    "Jupiter | 1120%\n",
    "Saturnus | 945%\n",
    "Uranus | 400%\n",
    "Neptunus | 388%\n",
    "Aarde| 100%\n",
    "Venus | 95%\n",
    "Mars | 53%"
   ]
  },
  {
   "cell_type": "code",
   "execution_count": 129,
   "id": "2b471d98-c5b0-4db0-a1c6-155094548c23",
   "metadata": {},
   "outputs": [],
   "source": [
    "filename = \"csv/planets.csv\""
   ]
  },
  {
   "cell_type": "code",
   "execution_count": 130,
   "id": "e5fa129a-d9a8-4899-ba69-87537e1819f5",
   "metadata": {},
   "outputs": [
    {
     "name": "stdout",
     "output_type": "stream",
     "text": [
      "earth.jpg         mars.jpg          neptune.jpg       uranus.jpg\n",
      "earth_scaled.jpg  mars.nasa.jpg     pluto.jpg         venus.jpg\n",
      "jupiter.jpg       mercury.jpg       saturn.jpg        venus.png\n"
     ]
    }
   ],
   "source": [
    "ls pics"
   ]
  },
  {
   "cell_type": "markdown",
   "id": "ad98fa30-0e0a-4ec4-9930-b63db74c11f2",
   "metadata": {},
   "source": [
    "<h3>Gevraagd</h3>\n",
    "<p>\n",
    "Schaal voor elke (erkende) planeet uit ons zonnestelsel de bijbehorende image t.o.v. van de aarde. Het geschaalde plaatje moet groter zijn dan het plaatje van de aarde als de bijbehorende planeet groter is dan de aarde. Is de planeet kleiner dan de aarde dan moet het nieuwe plaatje kleiner zijn. Gebruik voor de schaalfactor het percentage. \n",
    "Tip: Indien nodig kun je de images normaliseren door eerst het plaatje van de aarde te schalen\n",
    "</p>"
   ]
  },
  {
   "cell_type": "markdown",
   "id": "c0c854fb-54db-4baa-b149-2e7d0c1b6391",
   "metadata": {},
   "source": [
    "<h3>Oplossing</h3>\n",
    "<ol>\n",
    "    <li>\n",
    "        <strong>Open het bestand csv/planets.csv en voeg daar de kolom <i>image</i></strong>\n",
    "    </li>\n",
    "    <li>\n",
    "        <strong>Importeer het csv-bestand en sla de data op in een dictionary</strong>\n",
    "    </li>\n",
    "    <li>\n",
    "        <strong>Open een image uit van een item uit de dictionary</strong>\n",
    "    </li>\n",
    "    <li>\n",
    "        <strong>Schaal de image m.b.v. een <i>numpy array</i></strong>\n",
    "    </li>\n",
    "    <li>\n",
    "        <strong>Sla de geschaalde image op</strong>\n",
    "    </li>\n",
    "    <li>\n",
    "        <strong>Schrijf een functie voor het schalen van een image</strong>\n",
    "    </li>    \n",
    "    <li>\n",
    "        <strong>Maak een loop waarbij voor elke planeet een geschaalde image wordt gemaakt en opgelagen</strong>\n",
    "    </li>    \n",
    "</ol>    "
   ]
  },
  {
   "cell_type": "markdown",
   "id": "b2a7b7fb-56b3-43f7-a6b5-34adc057c3d1",
   "metadata": {},
   "source": [
    "**Stap 2: Importeer het csv-bestand en sla de data op in een dictionary**"
   ]
  },
  {
   "cell_type": "code",
   "execution_count": 131,
   "id": "cbcb0e9b-46f8-490d-9a85-eb29037a93cb",
   "metadata": {},
   "outputs": [
    {
     "name": "stdout",
     "output_type": "stream",
     "text": [
      "      Name   Diameter          Mass   Inclination   Eccentricity  \\\n",
      "0  Mercury     4879.4   3.302×10^23      7.004000       0.205636   \n",
      "1    Venus    12103.6   4.869×10^24      3.394710       0.006777   \n",
      "2    Earth    12756.3   5.974×10^24      0.000050       0.016711   \n",
      "3     Mars     6794.4   6.419×10^23      1.850610       0.093394   \n",
      "4  Jupiter   142984.0   1.899×10^27      1.305300       0.048386   \n",
      "5   Saturn   120536.0   5.688×10^26      2.484460       0.053862   \n",
      "6   Uranus    51118.0   8.683×10^25      0.774000       0.047257   \n",
      "7  Neptune    49572.0   1.024×10^26      1.769170       0.008590   \n",
      "8    Pluto     2370.0     1.3×10^22     17.089001       0.250249   \n",
      "\n",
      "    Semi_majorAxis   SurfaceGravity   OrbitalPeriod   SiderealRotation  \\\n",
      "0         0.387099             3.70        0.241000          58.650000   \n",
      "1         0.723336             8.87        0.615000         243.018700   \n",
      "2         1.000003             9.78        1.000000           0.997271   \n",
      "3         1.523710             3.71        1.881000           1.025950   \n",
      "4         5.202887            24.79       11.860000           0.413500   \n",
      "5         9.536676             8.96       29.460000           0.426400   \n",
      "6        19.189165             7.77       84.010000           0.718100   \n",
      "7        30.069923            11.00      164.790000           0.671200   \n",
      "8        39.445070             0.62      247.740662           6.387230   \n",
      "\n",
      "    Satellites  Scale  \n",
      "0            0    .38  \n",
      "1            0    .95  \n",
      "2            1      1  \n",
      "3            2    .53  \n",
      "4           63  11.20  \n",
      "5           64   9.45  \n",
      "6           27   4.00  \n",
      "7           14   3.88  \n",
      "8            5    .17  \n"
     ]
    }
   ],
   "source": [
    "planetDataFrame = pd.read_csv(filename, header = 0, sep = ',')\n",
    "Scale = ['.38', '.95', '1', '.53', '11.20', '9.45', '4.00', '3.88', '.17']\n",
    "planetDataFrame['Scale'] = Scale\n",
    "print(planetDataFrame)\n",
    "#print(planetDataFrame.columns)\n",
    "\n",
    "planetDict = planetDataFrame.to_dict\n",
    "#print(planetDict)"
   ]
  },
  {
   "cell_type": "markdown",
   "id": "9d9d8c73-c8fa-41b0-848c-04741aa06bbf",
   "metadata": {},
   "source": [
    "**Stap 3: Open een image uit van een item uit de dictionary**"
   ]
  },
  {
   "cell_type": "code",
   "execution_count": 159,
   "id": "83d43bb9-694e-4390-a8a3-30f6535f6591",
   "metadata": {},
   "outputs": [
    {
     "name": "stdout",
     "output_type": "stream",
     "text": [
      "      Name   Diameter          Mass   Inclination   Eccentricity  \\\n",
      "0  Mercury     4879.4   3.302×10^23      7.004000       0.205636   \n",
      "1    Venus    12103.6   4.869×10^24      3.394710       0.006777   \n",
      "2    Earth    12756.3   5.974×10^24      0.000050       0.016711   \n",
      "3     Mars     6794.4   6.419×10^23      1.850610       0.093394   \n",
      "4  Jupiter   142984.0   1.899×10^27      1.305300       0.048386   \n",
      "5   Saturn   120536.0   5.688×10^26      2.484460       0.053862   \n",
      "6   Uranus    51118.0   8.683×10^25      0.774000       0.047257   \n",
      "7  Neptune    49572.0   1.024×10^26      1.769170       0.008590   \n",
      "8    Pluto     2370.0     1.3×10^22     17.089001       0.250249   \n",
      "\n",
      "    Semi_majorAxis   SurfaceGravity   OrbitalPeriod   SiderealRotation  \\\n",
      "0         0.387099             3.70        0.241000          58.650000   \n",
      "1         0.723336             8.87        0.615000         243.018700   \n",
      "2         1.000003             9.78        1.000000           0.997271   \n",
      "3         1.523710             3.71        1.881000           1.025950   \n",
      "4         5.202887            24.79       11.860000           0.413500   \n",
      "5         9.536676             8.96       29.460000           0.426400   \n",
      "6        19.189165             7.77       84.010000           0.718100   \n",
      "7        30.069923            11.00      164.790000           0.671200   \n",
      "8        39.445070             0.62      247.740662           6.387230   \n",
      "\n",
      "    Satellites  Scale                Array  \\\n",
      "0            0   0.38  ../pics/mercury.jpg   \n",
      "1            0   0.95     ..pics/venus.jpg   \n",
      "2            1   1.00     ..pics/earth.jpg   \n",
      "3            2   0.53      ..pics/mars.jpg   \n",
      "4           63  11.20   ..pics/jupiter.jpg   \n",
      "5           64   9.45    ..pics/saturn.jpg   \n",
      "6           27   4.00    ..pics/uranus.jpg   \n",
      "7           14   3.88   ..pics/neptune.jpg   \n",
      "8            5   0.17     ..pics/pluto.jpg   \n",
      "\n",
      "                                           imageList  \n",
      "0  <PIL.JpegImagePlugin.JpegImageFile image mode=...  \n",
      "1  <PIL.JpegImagePlugin.JpegImageFile image mode=...  \n",
      "2  <PIL.JpegImagePlugin.JpegImageFile image mode=...  \n",
      "3  <PIL.JpegImagePlugin.JpegImageFile image mode=...  \n",
      "4  <PIL.JpegImagePlugin.JpegImageFile image mode=...  \n",
      "5  <PIL.JpegImagePlugin.JpegImageFile image mode=...  \n",
      "6  <PIL.JpegImagePlugin.JpegImageFile image mode=...  \n",
      "7  <PIL.JpegImagePlugin.JpegImageFile image mode=...  \n",
      "8  <PIL.JpegImagePlugin.JpegImageFile image mode=...  \n"
     ]
    }
   ],
   "source": [
    "# img0 = ('../pics/mercury.jpg')\n",
    "# img1 = ('..pics/venus.jpg') \n",
    "# img2 = ('..pics/earth.jpg')\n",
    "# img3 = ('..pics/mars.jpg')\n",
    "# img4 = ('..pics/jupiter.jpg')\n",
    "# img5 = ('..pics/saturn.jpg')\n",
    "# img6 = ('..pics/uranus.jpg')\n",
    "# img7 = ('..pics/neptune.jpg')\n",
    "# img8 = ('..pics/pluto.jpg')\n",
    "\n",
    "img0 = Image.open('pics/mercury.jpg')\n",
    "img1 = Image.open('pics/venus.jpg') # beter naar pad refereren?\n",
    "img2 = Image.open('pics/earth.jpg')\n",
    "img3 = Image.open('pics/mars.jpg')\n",
    "img4 = Image.open('pics/jupiter.jpg')\n",
    "img5 = Image.open('pics/saturn.jpg')\n",
    "img6 = Image.open('pics/uranus.jpg')\n",
    "img7 = Image.open('pics/neptune.jpg')\n",
    "img8 = Image.open('pics/pluto.jpg')\n",
    "\n",
    "imageList = [(img0), (img1), (img2), (img3), (img4), (img5), (img6), (img7), (img8)]\n",
    "planetDataFrame['imageList'] = imageList\n",
    "\n",
    "print (planetDataFrame)\n",
    "                  \n",
    "#img0.show()"
   ]
  },
  {
   "cell_type": "markdown",
   "id": "645b438b-324d-427c-9efd-d621e37445f7",
   "metadata": {
    "tags": []
   },
   "source": [
    "**Stap 4: Schaal de image m.b.v. een numpy array**"
   ]
  },
  {
   "cell_type": "code",
   "execution_count": 167,
   "id": "8894e6bd-6237-4cf6-8d95-222d6a3be56e",
   "metadata": {},
   "outputs": [],
   "source": [
    "array = np.array(img6)\n",
    "# print (type(array))\n",
    "# print (array.ndim)\n",
    "\n",
    "scaleFactor = 4\n",
    "scaleArray= ndimage.zoom(array, (scaleFactor, scaleFactor, 1))\n",
    "imgScaled = Image.fromarray(scaleArray)\n",
    "imgScaled.show()"
   ]
  },
  {
   "cell_type": "markdown",
   "id": "8611929d-d109-4f62-881f-b8a64db1e648",
   "metadata": {},
   "source": [
    "**Stap 5: Sla de geschaalde image op**"
   ]
  },
  {
   "cell_type": "code",
   "execution_count": 162,
   "id": "2e34fa25-3cc3-4e5f-b29a-7793e505db61",
   "metadata": {},
   "outputs": [],
   "source": [
    "imgScaled.save(img6.filename.replace(\".jpg\",\"_scaled.jpg\"))"
   ]
  },
  {
   "cell_type": "markdown",
   "id": "f142ebe1-f561-447b-8e2e-e8855b20cd50",
   "metadata": {},
   "source": [
    "**Stap 6: Schrijf een functie voor het schalen van een image**"
   ]
  },
  {
   "cell_type": "code",
   "execution_count": 165,
   "id": "f121c4f4-85c0-4e13-9e16-17eb2eebb1a3",
   "metadata": {},
   "outputs": [
    {
     "name": "stdout",
     "output_type": "stream",
     "text": [
      "<PIL.JpegImagePlugin.JpegImageFile image mode=RGB size=320x240 at 0x7FD998EA7070>\n",
      "(91, 122, 3)\n"
     ]
    },
    {
     "ename": "AttributeError",
     "evalue": "'Series' object has no attribute 'imgageList'",
     "output_type": "error",
     "traceback": [
      "\u001b[0;31m---------------------------------------------------------------------------\u001b[0m",
      "\u001b[0;31mAttributeError\u001b[0m                            Traceback (most recent call last)",
      "Cell \u001b[0;32mIn [165], line 6\u001b[0m\n\u001b[1;32m      4\u001b[0m row \u001b[38;5;241m=\u001b[39m planetDataFrame\u001b[38;5;241m.\u001b[39miloc[i]\n\u001b[1;32m      5\u001b[0m my_func(row)\n\u001b[0;32m----> 6\u001b[0m \u001b[38;5;28mprint\u001b[39m(\u001b[43mrow\u001b[49m\u001b[38;5;241;43m.\u001b[39;49m\u001b[43mimgageList\u001b[49m)\n\u001b[1;32m      7\u001b[0m \u001b[38;5;28mprint\u001b[39m(ndimage\u001b[38;5;241m.\u001b[39mzoom(np\u001b[38;5;241m.\u001b[39mimageList(row\u001b[38;5;241m.\u001b[39mimageList), (row\u001b[38;5;241m.\u001b[39mScale, row\u001b[38;5;241m.\u001b[39mScale, \u001b[38;5;241m1\u001b[39m))\u001b[38;5;241m.\u001b[39mshape)\n",
      "File \u001b[0;32m/opt/miniconda3/lib/python3.9/site-packages/pandas/core/generic.py:5575\u001b[0m, in \u001b[0;36mNDFrame.__getattr__\u001b[0;34m(self, name)\u001b[0m\n\u001b[1;32m   5568\u001b[0m \u001b[38;5;28;01mif\u001b[39;00m (\n\u001b[1;32m   5569\u001b[0m     name \u001b[38;5;129;01mnot\u001b[39;00m \u001b[38;5;129;01min\u001b[39;00m \u001b[38;5;28mself\u001b[39m\u001b[38;5;241m.\u001b[39m_internal_names_set\n\u001b[1;32m   5570\u001b[0m     \u001b[38;5;129;01mand\u001b[39;00m name \u001b[38;5;129;01mnot\u001b[39;00m \u001b[38;5;129;01min\u001b[39;00m \u001b[38;5;28mself\u001b[39m\u001b[38;5;241m.\u001b[39m_metadata\n\u001b[1;32m   5571\u001b[0m     \u001b[38;5;129;01mand\u001b[39;00m name \u001b[38;5;129;01mnot\u001b[39;00m \u001b[38;5;129;01min\u001b[39;00m \u001b[38;5;28mself\u001b[39m\u001b[38;5;241m.\u001b[39m_accessors\n\u001b[1;32m   5572\u001b[0m     \u001b[38;5;129;01mand\u001b[39;00m \u001b[38;5;28mself\u001b[39m\u001b[38;5;241m.\u001b[39m_info_axis\u001b[38;5;241m.\u001b[39m_can_hold_identifiers_and_holds_name(name)\n\u001b[1;32m   5573\u001b[0m ):\n\u001b[1;32m   5574\u001b[0m     \u001b[38;5;28;01mreturn\u001b[39;00m \u001b[38;5;28mself\u001b[39m[name]\n\u001b[0;32m-> 5575\u001b[0m \u001b[38;5;28;01mreturn\u001b[39;00m \u001b[38;5;28;43mobject\u001b[39;49m\u001b[38;5;241;43m.\u001b[39;49m\u001b[38;5;21;43m__getattribute__\u001b[39;49m\u001b[43m(\u001b[49m\u001b[38;5;28;43mself\u001b[39;49m\u001b[43m,\u001b[49m\u001b[43m \u001b[49m\u001b[43mname\u001b[49m\u001b[43m)\u001b[49m\n",
      "\u001b[0;31mAttributeError\u001b[0m: 'Series' object has no attribute 'imgageList'"
     ]
    }
   ],
   "source": [
    "planetDataFrame.Scale = planetDataFrame.Scale.astype(float) #nalopen\n",
    "\n",
    "for i in range(planetDataFrame.shape[0]):\n",
    "    row = planetDataFrame.iloc[i]\n",
    "    my_func(row)\n",
    "    print(row.imgageList)\n",
    "    print(ndimage.zoom(np.imageList(row.imageList), (row.Scale, row.Scale, 1)).shape)"
   ]
  },
  {
   "cell_type": "code",
   "execution_count": 138,
   "id": "4565c486-d95f-4665-bddb-48d01cc1ba9c",
   "metadata": {},
   "outputs": [
    {
     "ename": "AttributeError",
     "evalue": "'Series' object has no attribute 'imageList'",
     "output_type": "error",
     "traceback": [
      "\u001b[0;31m---------------------------------------------------------------------------\u001b[0m",
      "\u001b[0;31mAttributeError\u001b[0m                            Traceback (most recent call last)",
      "Cell \u001b[0;32mIn [138], line 5\u001b[0m\n\u001b[1;32m      3\u001b[0m \u001b[38;5;28;01mfor\u001b[39;00m i \u001b[38;5;129;01min\u001b[39;00m \u001b[38;5;28mrange\u001b[39m(planetDataFrame\u001b[38;5;241m.\u001b[39mshape[\u001b[38;5;241m0\u001b[39m]):\n\u001b[1;32m      4\u001b[0m     row \u001b[38;5;241m=\u001b[39m planetDataFrame\u001b[38;5;241m.\u001b[39miloc[i]\n\u001b[0;32m----> 5\u001b[0m     \u001b[43mmy_func\u001b[49m\u001b[43m(\u001b[49m\u001b[43mrow\u001b[49m\u001b[43m)\u001b[49m\n\u001b[1;32m      6\u001b[0m     \u001b[38;5;28mprint\u001b[39m(row\u001b[38;5;241m.\u001b[39mArray)\n\u001b[1;32m      7\u001b[0m     \u001b[38;5;28mprint\u001b[39m(ndimage\u001b[38;5;241m.\u001b[39mzoom(np\u001b[38;5;241m.\u001b[39marray(row\u001b[38;5;241m.\u001b[39mArray), (row\u001b[38;5;241m.\u001b[39mScale, row\u001b[38;5;241m.\u001b[39mScale, \u001b[38;5;241m1\u001b[39m))\u001b[38;5;241m.\u001b[39mshape)\n",
      "Cell \u001b[0;32mIn [81], line 4\u001b[0m, in \u001b[0;36mmy_func\u001b[0;34m(row)\u001b[0m\n\u001b[1;32m      3\u001b[0m \u001b[38;5;28;01mdef\u001b[39;00m \u001b[38;5;21mmy_func\u001b[39m(row):\n\u001b[0;32m----> 4\u001b[0m     \u001b[38;5;28mprint\u001b[39m(\u001b[43mrow\u001b[49m\u001b[38;5;241;43m.\u001b[39;49m\u001b[43mimageList\u001b[49m)\n\u001b[1;32m      5\u001b[0m     \u001b[38;5;28mprint\u001b[39m(ndimage\u001b[38;5;241m.\u001b[39mzoom(np\u001b[38;5;241m.\u001b[39marray(row\u001b[38;5;241m.\u001b[39mimageList), (row\u001b[38;5;241m.\u001b[39mScale, row\u001b[38;5;241m.\u001b[39mScale, \u001b[38;5;241m1\u001b[39m))\u001b[38;5;241m.\u001b[39mshape)\n",
      "File \u001b[0;32m/opt/miniconda3/lib/python3.9/site-packages/pandas/core/generic.py:5575\u001b[0m, in \u001b[0;36mNDFrame.__getattr__\u001b[0;34m(self, name)\u001b[0m\n\u001b[1;32m   5568\u001b[0m \u001b[38;5;28;01mif\u001b[39;00m (\n\u001b[1;32m   5569\u001b[0m     name \u001b[38;5;129;01mnot\u001b[39;00m \u001b[38;5;129;01min\u001b[39;00m \u001b[38;5;28mself\u001b[39m\u001b[38;5;241m.\u001b[39m_internal_names_set\n\u001b[1;32m   5570\u001b[0m     \u001b[38;5;129;01mand\u001b[39;00m name \u001b[38;5;129;01mnot\u001b[39;00m \u001b[38;5;129;01min\u001b[39;00m \u001b[38;5;28mself\u001b[39m\u001b[38;5;241m.\u001b[39m_metadata\n\u001b[1;32m   5571\u001b[0m     \u001b[38;5;129;01mand\u001b[39;00m name \u001b[38;5;129;01mnot\u001b[39;00m \u001b[38;5;129;01min\u001b[39;00m \u001b[38;5;28mself\u001b[39m\u001b[38;5;241m.\u001b[39m_accessors\n\u001b[1;32m   5572\u001b[0m     \u001b[38;5;129;01mand\u001b[39;00m \u001b[38;5;28mself\u001b[39m\u001b[38;5;241m.\u001b[39m_info_axis\u001b[38;5;241m.\u001b[39m_can_hold_identifiers_and_holds_name(name)\n\u001b[1;32m   5573\u001b[0m ):\n\u001b[1;32m   5574\u001b[0m     \u001b[38;5;28;01mreturn\u001b[39;00m \u001b[38;5;28mself\u001b[39m[name]\n\u001b[0;32m-> 5575\u001b[0m \u001b[38;5;28;01mreturn\u001b[39;00m \u001b[38;5;28;43mobject\u001b[39;49m\u001b[38;5;241;43m.\u001b[39;49m\u001b[38;5;21;43m__getattribute__\u001b[39;49m\u001b[43m(\u001b[49m\u001b[38;5;28;43mself\u001b[39;49m\u001b[43m,\u001b[49m\u001b[43m \u001b[49m\u001b[43mname\u001b[49m\u001b[43m)\u001b[49m\n",
      "\u001b[0;31mAttributeError\u001b[0m: 'Series' object has no attribute 'imageList'"
     ]
    }
   ],
   "source": [
    "\n",
    "    \n",
    "    # imgScaled.save(img.filename.replace(\".jpg\",\"_scaled.jpg\"))\n"
   ]
  },
  {
   "cell_type": "code",
   "execution_count": null,
   "id": "bf97af30-86d8-455c-bf94-89dd74611c54",
   "metadata": {},
   "outputs": [],
   "source": [
    "planetDataFrame.Scale = planetDataFrame.Scale.astype(float)\n",
    "\n",
    "# planetDataFrame.apply(my_func, axis=1) (easier than loop)\n",
    "\n",
    "for i in range(planetDataFrame.shape[0]):\n",
    "    row = planetDataFrame.iloc[i]\n",
    "    my_func(row)\n",
    "    print(row.imageList)\n",
    "    # print(ndimage.zoom(np.array(row.imageList), (row.Scale, row.Scale, 1)).shape)\n",
    "\n",
    " # add logic to save here "
   ]
  },
  {
   "cell_type": "markdown",
   "id": "5a550077-c83c-4af2-96fa-7a32158d5198",
   "metadata": {},
   "source": [
    "**Stap 7: Maak een loop waarbij voor elke planeet een geschaalde image wordt gemaakt en opgelagen**"
   ]
  },
  {
   "cell_type": "markdown",
   "id": "a668a8e8-4d7e-4c6d-adbc-61935887fabe",
   "metadata": {},
   "source": [
    "<h4>Bonus: Voeg Mercurius aan de tabel toe en schaal ook daarvan het plaatje</h4>"
   ]
  },
  {
   "cell_type": "markdown",
   "id": "11d181d1-c906-4ad1-9d8f-69836a4e8cc7",
   "metadata": {},
   "source": [
    "</ol>"
   ]
  },
  {
   "cell_type": "markdown",
   "id": "03ac855f-3986-4b4a-823c-10c6d8b33024",
   "metadata": {},
   "source": [
    "</ol>"
   ]
  },
  {
   "cell_type": "markdown",
   "id": "0be19a7e-a00f-4773-a19a-50b07618f856",
   "metadata": {},
   "source": [
    "\n"
   ]
  }
 ],
 "metadata": {
  "kernelspec": {
   "display_name": "Python 3 (ipykernel)",
   "language": "python",
   "name": "python3"
  },
  "language_info": {
   "codemirror_mode": {
    "name": "ipython",
    "version": 3
   },
   "file_extension": ".py",
   "mimetype": "text/x-python",
   "name": "python",
   "nbconvert_exporter": "python",
   "pygments_lexer": "ipython3",
   "version": "3.9.12"
  }
 },
 "nbformat": 4,
 "nbformat_minor": 5
}

{
 "cells": [
  {
   "cell_type": "code",
   "execution_count": 2,
   "id": "5329c112-7c62-4ba0-b8fd-52356af798fe",
   "metadata": {},
   "outputs": [
    {
     "name": "stdout",
     "output_type": "stream",
     "text": [
      "Naiad\n",
      "Thalassa\n",
      "Despina\n",
      "Galatea\n",
      "Proteus\n",
      "Hippocamp\n"
     ]
    }
   ],
   "source": [
    "neptuneInnerMoons = [\"Naiad\", \"Thalassa\", \"Despina\", \"Galatea\", \"Proteus\", \"Hippocamp\"]\n",
    "\n",
    "for moon in neptuneInnerMoons: \n",
    "    print(moon)"
   ]
  }
 ],
 "metadata": {
  "kernelspec": {
   "display_name": "Python 3 (ipykernel)",
   "language": "python",
   "name": "python3"
  },
  "language_info": {
   "codemirror_mode": {
    "name": "ipython",
    "version": 3
   },
   "file_extension": ".py",
   "mimetype": "text/x-python",
   "name": "python",
   "nbconvert_exporter": "python",
   "pygments_lexer": "ipython3",
   "version": "3.10.6"
  }
 },
 "nbformat": 4,
 "nbformat_minor": 5
}

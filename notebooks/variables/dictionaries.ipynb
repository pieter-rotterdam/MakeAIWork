{
 "cells": [
  {
   "cell_type": "markdown",
   "id": "5713f5a7-348e-4905-a2dc-b4b750d3eb7b",
   "metadata": {},
   "source": [
    "<a href='https://it-omscholing.nl/locaties/hogeschool-rotterdam/'>\n",
    "<div>\n",
    "<a><img src='../pics/banner.PNG'/></a>\n",
    "</div>\n",
    "<div>\n",
    "<a href=''><img src='../pics/miw.PNG'/></a>\n",
    "<em>Author: Jeroen Boogaard</em>\n",
    "</div>\n",
    "</a>"
   ]
  },
  {
   "cell_type": "markdown",
   "id": "8c60c67e-7b39-45ac-acd5-54e1013ec115",
   "metadata": {},
   "source": [
    "---"
   ]
  },
  {
   "cell_type": "markdown",
   "id": "d697ae0a-1505-43f5-817d-efeaed6009a4",
   "metadata": {},
   "source": [
    "<h1>Samengestelde variabelen - Dictionaries</h1>"
   ]
  },
  {
   "cell_type": "markdown",
   "id": "5968c213-ab8e-41d5-b245-a23956f3af6f",
   "metadata": {},
   "source": [
    "**Een dict is een <u>mutable</u> dataverzameling van <u>key-value pairs</u>.**"
   ]
  },
  {
   "cell_type": "markdown",
   "id": "5812a326-b1a7-409e-9b2d-7b2bb5102532",
   "metadata": {},
   "source": [
    "<h3>Dictionary variabelen aanmaken en afdrukken</h3>"
   ]
  },
  {
   "cell_type": "code",
   "execution_count": 2,
   "id": "0dabdb25-6ff5-4edc-96fd-7019734055e0",
   "metadata": {},
   "outputs": [
    {
     "data": {
      "text/plain": [
       "dict_items([('length', 6), ('width', 1.56), ('weight', 360), ('deckHeight', (83, 108)), ('robotArmLength', 1.8), ('numberOfSolarPanels', 2)])"
      ]
     },
     "execution_count": 2,
     "metadata": {},
     "output_type": "execute_result"
    }
   ],
   "source": [
    "    marslanderSpecs = { 'length': 6, 'width': 1.56, 'weight': 360, 'deckHeight': (83, 108), 'robotArmLength': 1.8, 'numberOfSolarPanels': 2}\n",
    "marslanderSpecs.items()"
   ]
  },
  {
   "cell_type": "markdown",
   "id": "839821d9-8d2c-4c18-a55e-c7645cbb3160",
   "metadata": {},
   "source": [
    "De <i>String Formatting Operator</i> maakt gebruik van een <i>tuple</i>"
   ]
  },
  {
   "cell_type": "code",
   "execution_count": 3,
   "id": "9fc3a9ee-6b10-41e0-9d45-6d4b85940f7f",
   "metadata": {},
   "outputs": [
    {
     "name": "stdout",
     "output_type": "stream",
     "text": [
      "<class 'tuple'>\n",
      "The Deck Height of the Marslander has a range from 83 to 108\n"
     ]
    }
   ],
   "source": [
    "print(type(marslanderSpecs.get('deckHeight')))\n",
    "print( 'The Deck Height of the Marslander has a range from %s to %s' %marslanderSpecs.get('deckHeight'))"
   ]
  },
  {
   "cell_type": "markdown",
   "id": "db849391-b9b9-4900-95ba-24d21c65138f",
   "metadata": {},
   "source": [
    "<h3>Elementen toevoegen</h3>"
   ]
  },
  {
   "cell_type": "code",
   "execution_count": 4,
   "id": "321b9ef8-559f-4f09-8110-0d07f6091807",
   "metadata": {},
   "outputs": [
    {
     "name": "stdout",
     "output_type": "stream",
     "text": [
      "{'length': 6, 'width': 1.56, 'weight': 360, 'deckHeight': (83, 108), 'robotArmLength': 1.8, 'numberOfSolarPanels': 2, 'scienceInstruments': ('seismometer', 'heat probe', 'radio science experiment'), 'image': '../pics/mars.nasa.jpg'}\n"
     ]
    }
   ],
   "source": [
    "marslanderSpecs.update( {'scienceInstruments' : (\"seismometer\", \"heat probe\", \"radio science experiment\")} )\n",
    "marslanderSpecs.update( {'image': \"../pics/mars.nasa.jpg\"} )\n",
    "print(marslanderSpecs)"
   ]
  },
  {
   "cell_type": "markdown",
   "id": "ef481205-753b-42ef-858d-84696e760708",
   "metadata": {},
   "source": [
    "<h3>Excercise 1</h3>\n",
    "<p>\n",
    "    <ol>\n",
    "        <li>Maak in de huidige directory (notebooks) de directory <i>csv</i> aan</li>\n",
    "        <li>Importeer de library <i>csv</i> of <i>pandas</i></li>\n",
    "        <li>Exporteer de dictionary marslanderSpecs naar het bestand <i>csv/marslander.csv</i><br></li>\n",
    "    </ol>\n",
    "    <strong>TIP : </strong>Zoek op https://stackoverflow.com/en naar geschikte voorbeelden\n",
    "</p> "
   ]
  },
  {
   "cell_type": "code",
   "execution_count": 5,
   "id": "3dad2f1f-dc08-4203-933b-ea59a3e0b173",
   "metadata": {},
   "outputs": [
    {
     "data": {
      "text/html": [
       "<div>\n",
       "<style scoped>\n",
       "    .dataframe tbody tr th:only-of-type {\n",
       "        vertical-align: middle;\n",
       "    }\n",
       "\n",
       "    .dataframe tbody tr th {\n",
       "        vertical-align: top;\n",
       "    }\n",
       "\n",
       "    .dataframe thead th {\n",
       "        text-align: right;\n",
       "    }\n",
       "</style>\n",
       "<table border=\"1\" class=\"dataframe\">\n",
       "  <thead>\n",
       "    <tr style=\"text-align: right;\">\n",
       "      <th></th>\n",
       "      <th>Unnamed: 0</th>\n",
       "      <th>length</th>\n",
       "      <th>width</th>\n",
       "      <th>weight</th>\n",
       "      <th>deckHeight</th>\n",
       "      <th>robotArmLength</th>\n",
       "      <th>numberOfSolarPanels</th>\n",
       "      <th>image</th>\n",
       "      <th>scienceInstruments</th>\n",
       "    </tr>\n",
       "  </thead>\n",
       "  <tbody>\n",
       "    <tr>\n",
       "      <th>0</th>\n",
       "      <td>0</td>\n",
       "      <td>6.0</td>\n",
       "      <td>1.56</td>\n",
       "      <td>360.0</td>\n",
       "      <td>83.0</td>\n",
       "      <td>1.8</td>\n",
       "      <td>2.0</td>\n",
       "      <td>../pics/mars.nasa.jpg</td>\n",
       "      <td>seismometer</td>\n",
       "    </tr>\n",
       "    <tr>\n",
       "      <th>1</th>\n",
       "      <td>1</td>\n",
       "      <td>NaN</td>\n",
       "      <td>NaN</td>\n",
       "      <td>NaN</td>\n",
       "      <td>108.0</td>\n",
       "      <td>NaN</td>\n",
       "      <td>NaN</td>\n",
       "      <td>NaN</td>\n",
       "      <td>heat probe</td>\n",
       "    </tr>\n",
       "    <tr>\n",
       "      <th>2</th>\n",
       "      <td>2</td>\n",
       "      <td>NaN</td>\n",
       "      <td>NaN</td>\n",
       "      <td>NaN</td>\n",
       "      <td>NaN</td>\n",
       "      <td>NaN</td>\n",
       "      <td>NaN</td>\n",
       "      <td>NaN</td>\n",
       "      <td>radio science experiment</td>\n",
       "    </tr>\n",
       "  </tbody>\n",
       "</table>\n",
       "</div>"
      ],
      "text/plain": [
       "   Unnamed: 0  length  width  weight  deckHeight  robotArmLength  \\\n",
       "0           0     6.0   1.56   360.0        83.0             1.8   \n",
       "1           1     NaN    NaN     NaN       108.0             NaN   \n",
       "2           2     NaN    NaN     NaN         NaN             NaN   \n",
       "\n",
       "   numberOfSolarPanels                  image        scienceInstruments  \n",
       "0                  2.0  ../pics/mars.nasa.jpg               seismometer  \n",
       "1                  NaN                    NaN                heat probe  \n",
       "2                  NaN                    NaN  radio science experiment  "
      ]
     },
     "execution_count": 5,
     "metadata": {},
     "output_type": "execute_result"
    }
   ],
   "source": [
    "import pandas as pd\n",
    "\n",
    "marslanderSpecs = { 'length': 6, 'width': 1.56, 'weight': 360, 'deckHeight': (83, 108), 'robotArmLength': 1.8, 'numberOfSolarPanels': 2}\n",
    "marslanderSpecs.items()\n",
    "marslanderSpecs.update( {'image': \"../pics/mars.nasa.jpg\"} )\n",
    "marslanderSpecs.update( {'scienceInstruments' : (\"seismometer\", \"heat probe\", \"radio science experiment\")} )\n",
    "\n",
    "\n",
    "df = pd.DataFrame({key:pd.Series(value) for key, value in marslanderSpecs.items()}) \n",
    "df.to_csv(\"csv/marslander.csv\")\n",
    "pd.read_csv(\"csv/marslander.csv\")"
   ]
  },
  {
   "cell_type": "markdown",
   "id": "09a77d13-56a2-4d84-9554-266bac12c8bb",
   "metadata": {},
   "source": [
    "<h3>Mutaties</h3>"
   ]
  },
  {
   "cell_type": "markdown",
   "id": "5c443d17-4f1c-444d-988a-28753319ebe5",
   "metadata": {},
   "source": [
    "**Voorkom information loss door de inhoud van de dictionary eerst naar een ander plaats in het geheugen te kopiëren**"
   ]
  },
  {
   "cell_type": "code",
   "execution_count": 6,
   "id": "3756229c-0b16-43b6-a495-c8bce87ff708",
   "metadata": {},
   "outputs": [],
   "source": [
    "marslanderSpecsCopy = marslanderSpecs.copy()"
   ]
  },
  {
   "cell_type": "markdown",
   "id": "0e990d4a-a8e3-4230-8749-a72347ffdb84",
   "metadata": {},
   "source": [
    "<p>De volgorde van waarmee items uit een data colection worden gepopt is Last In First Out (LIFO)</p>"
   ]
  },
  {
   "cell_type": "code",
   "execution_count": 7,
   "id": "7fead617-0c2b-47f0-b535-084cde28ef54",
   "metadata": {},
   "outputs": [
    {
     "name": "stdout",
     "output_type": "stream",
     "text": [
      "('scienceInstruments', ('seismometer', 'heat probe', 'radio science experiment'))\n"
     ]
    }
   ],
   "source": [
    "lastItem = marslanderSpecsCopy.popitem()\n",
    "print(lastItem) "
   ]
  },
  {
   "cell_type": "markdown",
   "id": "6e5c60aa-5693-4098-bcca-7d9b735c439e",
   "metadata": {},
   "source": [
    "<h3>Exercise 2</h3>\n",
    "<h4>Gegeven</h4>"
   ]
  },
  {
   "cell_type": "code",
   "execution_count": 8,
   "id": "b78f2633-5fcd-46ab-a3a0-bcefb541d7e1",
   "metadata": {},
   "outputs": [],
   "source": [
    "moonlanderSpecs = { 'name': \"Apollo Lunar Module\", 'length': 7.04, 'width': 9.4 }\n",
    "moonlanderSpecsCopy = moonlanderSpecs"
   ]
  },
  {
   "cell_type": "markdown",
   "id": "28b30616-b186-4b6e-9d4e-1c307d4e1b0f",
   "metadata": {},
   "source": [
    "<h4>Gevraagd</h4>\n",
    "<p>\n",
    "Toon m.b.v. mutaties aan dat moonlanderSpecs en moonlanderSpecsCopy naar dezelfde plaats in het geheugen refereren. \n",
    "</p>"
   ]
  },
  {
   "cell_type": "markdown",
   "id": "8fefac94-8935-4a0b-94ea-f9ac86e6c1fa",
   "metadata": {},
   "source": [
    "<h4>Oplossing</h4>"
   ]
  },
  {
   "cell_type": "code",
   "execution_count": 9,
   "id": "76955594-1a07-4e1a-abff-e77b717a8cf0",
   "metadata": {},
   "outputs": [
    {
     "name": "stdout",
     "output_type": "stream",
     "text": [
      "{'name': 'Apollo Lunar Module', 'length': 7.04, 'width': 9.4, 'image': '../pics/mars.nasa.jpg'}\n"
     ]
    }
   ],
   "source": [
    "moonlanderSpecs = { 'name': \"Apollo Lunar Module\", 'length': 7.04, 'width': 9.4 }\n",
    "moonlanderSpecsCopy = moonlanderSpecs\n",
    "\n",
    "moonlanderSpecsCopy.update( {'image': \"../pics/mars.nasa.jpg\"} )\n",
    "print (moonlanderSpecs)\n"
   ]
  },
  {
   "cell_type": "markdown",
   "id": "ab2b77bd-ce14-4b32-91ab-ee81aded45df",
   "metadata": {},
   "source": [
    "<h3>Visualisatie</h3>"
   ]
  },
  {
   "cell_type": "markdown",
   "id": "5cfb1537-4bb1-453e-8e09-06b52a742814",
   "metadata": {},
   "source": [
    "**Importeer de Python Imaging Library (PIL) voor het renderen van een Image** "
   ]
  },
  {
   "cell_type": "code",
   "execution_count": 10,
   "id": "c1c7a3e1-2814-4d53-ae6f-51b6e9ab34fd",
   "metadata": {},
   "outputs": [],
   "source": [
    "from PIL import Image"
   ]
  },
  {
   "cell_type": "code",
   "execution_count": 11,
   "id": "913b1435-3083-4d25-8d26-5ae6b4c10d10",
   "metadata": {},
   "outputs": [],
   "source": [
    "img = Image.open( marslanderSpecs.get('image') )\n",
    "percentage = 0.5\n",
    "width, height = img.size\n",
    "resizedDimensions = (int(width * percentage), int(height * percentage))\n",
    "resizedImg = img.resize(resizedDimensions)\n",
    "#resizedImg.show()"
   ]
  },
  {
   "cell_type": "markdown",
   "id": "141254b3-9a26-4a73-9477-dc5701d8b72c",
   "metadata": {},
   "source": [
    "<h3>Iteratie</h3>"
   ]
  },
  {
   "cell_type": "code",
   "execution_count": 12,
   "id": "65af11f0-5de0-40c7-b075-8f930bc27801",
   "metadata": {},
   "outputs": [
    {
     "name": "stdout",
     "output_type": "stream",
     "text": [
      "length 6\n",
      "width 1.56\n",
      "weight 360\n",
      "deckHeight (83, 108)\n",
      "robotArmLength 1.8\n",
      "numberOfSolarPanels 2\n",
      "image ../pics/mars.nasa.jpg\n",
      "scienceInstruments ('seismometer', 'heat probe', 'radio science experiment')\n"
     ]
    }
   ],
   "source": [
    "for (key, value) in marslanderSpecs.items():\n",
    "    print(key, value)"
   ]
  },
  {
   "cell_type": "markdown",
   "id": "8d0e34dc-3d69-47c1-9e78-e9b7124c63b7",
   "metadata": {},
   "source": [
    "<h3>Exercise 3</h3>\n",
    "<p>Laat m.b.v. iteratie zien dat <u>alle</u> elementen van een dictionary 2-tuples zijn</p>"
   ]
  },
  {
   "cell_type": "code",
   "execution_count": 13,
   "id": "68dc008a-32f0-4b7f-8f9e-fb179dee9e5f",
   "metadata": {},
   "outputs": [
    {
     "name": "stdout",
     "output_type": "stream",
     "text": [
      "name -- Apollo Lunar Module\n",
      "length -- 7.04\n",
      "width -- 9.4\n"
     ]
    }
   ],
   "source": [
    "moonlanderSpecs = { 'name': \"Apollo Lunar Module\", 'length': 7.04, 'width': 9.4 }\n",
    "\n",
    "for k,v in moonlanderSpecs.items():\n",
    "    print(k,'--', v)"
   ]
  },
  {
   "cell_type": "markdown",
   "id": "a5514288-5623-4f8c-a41e-f4782fddf522",
   "metadata": {},
   "source": [
    "<p><strong>NB : </strong>Zorg ervoor dat je zowel dit notebook als het bij Execercise 1 aangemaakte csv-bestand naar je remote git repository pusht</p>"
   ]
  },
  {
   "cell_type": "code",
   "execution_count": null,
   "id": "92c375cf-3bd8-4abb-b5f4-5076ceca5c29",
   "metadata": {},
   "outputs": [],
   "source": []
  }
 ],
 "metadata": {
  "kernelspec": {
   "display_name": "Python 3 (ipykernel)",
   "language": "python",
   "name": "python3"
  },
  "language_info": {
   "codemirror_mode": {
    "name": "ipython",
    "version": 3
   },
   "file_extension": ".py",
   "mimetype": "text/x-python",
   "name": "python",
   "nbconvert_exporter": "python",
   "pygments_lexer": "ipython3",
   "version": "3.9.12"
  },
  "vscode": {
   "interpreter": {
    "hash": "98590ff4fe04c8543246b2a01debd3de3c5ca9b666f43f1fa87d5110c692004c"
   }
  }
 },
 "nbformat": 4,
 "nbformat_minor": 5
}
